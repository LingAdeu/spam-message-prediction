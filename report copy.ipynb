{
 "cells": [
  {
   "cell_type": "markdown",
   "metadata": {},
   "source": [
    "<h1 style='text-align:center;font-weight:bold;color:blue'>Spam Message Filtering System</h1>"
   ]
  },
  {
   "cell_type": "markdown",
   "metadata": {},
   "source": [
    "## <b>1 Introduction</b>\n",
    "### <b>1.1 Background</b>\n",
    "Developing an efficient spam message filtering system to automatically classify incoming messages as spam or not spam is crucial for enhancing user experience and safeguarding against malicious content. The system needs to accurately distinguish between legitimate messages and unsolicited or harmful ones to ensure users only receive relevant and safe communications. This project aims to build a classification model to flag a spam message.\n",
    "\n",
    "- <b>Type I Error (False Positive)</b>: This occurs when a real email is incorrectly marked as spam. The cost associated with this error is typically higher because it can result in missing important communications, which could have significant repercussions, such as lost business opportunities or critical information not being received. Therefore, a higher cost of USD5 per misclassified non-spam email might be assigned to reflect its potential impact.\n",
    "- <b>Type II Error (False Negative)</b>: This happens when a spam email is mistakenly identified as non-spam and ends up in the inbox. While this is also undesirable, the consequence is usually less severe than a Type I error. It might lead to some inconvenience and time wasted in manually deleting the spam emails, but it’s less likely to result in a significant loss. Hence, a lower cost of USD1 per misclassified spam email could be justified.\n",
    "\n",
    "As the difference between losses caused by the type I and type II error is relatively small, this project will use F1 as the metric for evaluating the machine learning model's performance. The F1 score provides a balanced consideration between precision and recall. Precision is usually used when we want to optimize reducing type I error while recall can be adopted when the goal is to minimize the financial loss due to type II error. The F1 ensures the model achieves a good trade-off between two types of errors.\n",
    "\n",
    "### <b>1.2 Dataset</b>\n",
    "The dataset used to build the classification model was obtained form [Kaggle](https://www.kaggle.com/datasets/uciml/sms-spam-collection-dataset/data). This dataset contains two columns: `status` (target) and `text` (feature).\n",
    "- `status`: The status of the message (`ham` or `spam`)\n",
    "- `text`: The message content"
   ]
  },
  {
   "cell_type": "markdown",
   "metadata": {},
   "source": [
    "## <b>2 Data Preparation</b>"
   ]
  },
  {
   "cell_type": "code",
   "execution_count": 1,
   "metadata": {},
   "outputs": [],
   "source": [
    "\n",
    "import pandas as pd\n",
    "import re\n",
    "import numpy as np\n",
    "import matplotlib.pyplot as plt\n",
    "from sklearn.base import BaseEstimator, TransformerMixin\n",
    "from sklearn.pipeline import Pipeline\n",
    "from imblearn.pipeline import Pipeline as ImbPipeline  \n",
    "from sklearn.feature_extraction.text import TfidfVectorizer\n",
    "from imblearn.over_sampling import SMOTE\n",
    "from sklearn.linear_model import LogisticRegression\n",
    "from sklearn.naive_bayes import BernoulliNB\n",
    "from sklearn.svm import SVC\n",
    "from sklearn.ensemble import RandomForestClassifier, GradientBoostingClassifier\n",
    "from sklearn.model_selection import train_test_split, GridSearchCV\n",
    "from sklearn.model_selection import GridSearchCV, cross_validate, StratifiedKFold\n",
    "from sklearn.metrics import accuracy_score, recall_score, precision_score, roc_auc_score, f1_score, classification_report\n",
    "from sklearn.model_selection import cross_val_score, StratifiedKFold\n",
    "from sklearn.model_selection import KFold\n",
    "import lime\n",
    "import lime.lime_text\n",
    "from lime.lime_text import LimeTextExplainer"
   ]
  },
  {
   "cell_type": "code",
   "execution_count": 2,
   "metadata": {},
   "outputs": [
    {
     "name": "stdout",
     "output_type": "stream",
     "text": [
      "The dataset contains 5572 rows and 2 columns.\n"
     ]
    },
    {
     "data": {
      "text/html": [
       "<div>\n",
       "<style scoped>\n",
       "    .dataframe tbody tr th:only-of-type {\n",
       "        vertical-align: middle;\n",
       "    }\n",
       "\n",
       "    .dataframe tbody tr th {\n",
       "        vertical-align: top;\n",
       "    }\n",
       "\n",
       "    .dataframe thead th {\n",
       "        text-align: right;\n",
       "    }\n",
       "</style>\n",
       "<table border=\"1\" class=\"dataframe\">\n",
       "  <thead>\n",
       "    <tr style=\"text-align: right;\">\n",
       "      <th></th>\n",
       "      <th>status</th>\n",
       "      <th>text</th>\n",
       "    </tr>\n",
       "  </thead>\n",
       "  <tbody>\n",
       "    <tr>\n",
       "      <th>0</th>\n",
       "      <td>ham</td>\n",
       "      <td>Go until jurong point, crazy.. Available only ...</td>\n",
       "    </tr>\n",
       "    <tr>\n",
       "      <th>1</th>\n",
       "      <td>ham</td>\n",
       "      <td>Ok lar... Joking wif u oni...</td>\n",
       "    </tr>\n",
       "    <tr>\n",
       "      <th>2</th>\n",
       "      <td>spam</td>\n",
       "      <td>Free entry in 2 a wkly comp to win FA Cup fina...</td>\n",
       "    </tr>\n",
       "    <tr>\n",
       "      <th>3</th>\n",
       "      <td>ham</td>\n",
       "      <td>U dun say so early hor... U c already then say...</td>\n",
       "    </tr>\n",
       "    <tr>\n",
       "      <th>4</th>\n",
       "      <td>ham</td>\n",
       "      <td>Nah I don't think he goes to usf, he lives aro...</td>\n",
       "    </tr>\n",
       "  </tbody>\n",
       "</table>\n",
       "</div>"
      ],
      "text/plain": [
       "  status                                               text\n",
       "0    ham  Go until jurong point, crazy.. Available only ...\n",
       "1    ham                      Ok lar... Joking wif u oni...\n",
       "2   spam  Free entry in 2 a wkly comp to win FA Cup fina...\n",
       "3    ham  U dun say so early hor... U c already then say...\n",
       "4    ham  Nah I don't think he goes to usf, he lives aro..."
      ]
     },
     "execution_count": 2,
     "metadata": {},
     "output_type": "execute_result"
    }
   ],
   "source": [
    "data = pd.read_csv(\"data/spam.csv\")\n",
    "print(f\"The dataset contains {data.shape[0]} rows and {data.shape[1]} columns.\")\n",
    "data.head()"
   ]
  },
  {
   "cell_type": "markdown",
   "metadata": {},
   "source": [
    "<b>Comment</b>: \n",
    "- The data consists of two columns (`status` and `text`) and 5,572 rows.\n",
    "- Before moving further, it is necessary to understand the proportion of the message status (spam vs ham) as an uneven distribution in the target variable can affect the classification model."
   ]
  },
  {
   "cell_type": "code",
   "execution_count": 3,
   "metadata": {},
   "outputs": [
    {
     "data": {
      "text/html": [
       "<div>\n",
       "<style scoped>\n",
       "    .dataframe tbody tr th:only-of-type {\n",
       "        vertical-align: middle;\n",
       "    }\n",
       "\n",
       "    .dataframe tbody tr th {\n",
       "        vertical-align: top;\n",
       "    }\n",
       "\n",
       "    .dataframe thead th {\n",
       "        text-align: right;\n",
       "    }\n",
       "</style>\n",
       "<table border=\"1\" class=\"dataframe\">\n",
       "  <thead>\n",
       "    <tr style=\"text-align: right;\">\n",
       "      <th></th>\n",
       "      <th>count</th>\n",
       "      <th>proportion</th>\n",
       "    </tr>\n",
       "  </thead>\n",
       "  <tbody>\n",
       "    <tr>\n",
       "      <th>ham</th>\n",
       "      <td>4825</td>\n",
       "      <td>86.59</td>\n",
       "    </tr>\n",
       "    <tr>\n",
       "      <th>spam</th>\n",
       "      <td>747</td>\n",
       "      <td>13.41</td>\n",
       "    </tr>\n",
       "  </tbody>\n",
       "</table>\n",
       "</div>"
      ],
      "text/plain": [
       "      count  proportion\n",
       "ham    4825       86.59\n",
       "spam    747       13.41"
      ]
     },
     "execution_count": 3,
     "metadata": {},
     "output_type": "execute_result"
    }
   ],
   "source": [
    "# get propotion of status\n",
    "target_col = pd.DataFrame({'count':data['status'].value_counts(),\n",
    "                           'proportion':round(data['status'].value_counts(normalize=True) *100, 2)})\n",
    "target_col"
   ]
  },
  {
   "cell_type": "code",
   "execution_count": 4,
   "metadata": {},
   "outputs": [
    {
     "data": {
      "image/png": "[encoded data removed]",
      "text/plain": [
       "<Figure size 600x600 with 1 Axes>"
      ]
     },
     "metadata": {},
     "output_type": "display_data"
    }
   ],
   "source": [
    "# Data\n",
    "labels = target_col.index\n",
    "sizes = target_col['count']\n",
    "colors = ['blue', 'orange']\n",
    "explode = (0, 0.1) \n",
    "# Create pie chart\n",
    "plt.figure(figsize=(6, 6))\n",
    "plt.pie(sizes, explode=explode, labels=labels, colors=colors, autopct='%1.1f%%', shadow=False, startangle=140)\n",
    "plt.axis('equal')  # Equal aspect ratio ensures that pie is drawn as a circle\n",
    "plt.title('Spam messages constitutes only 13.4%')\n",
    "plt.show()\n"
   ]
  },
  {
   "cell_type": "markdown",
   "metadata": {},
   "source": [
    "<b>Comment</b>: \n",
    "- As the proportion between spam and ham is not even (13.4 vs 86.6), the imbalanced distribution should be done during the modeling process to avoid bias in the model and impact on the model's evaluation.\n",
    "- The model can be biased towards the majority class so it may not perform well when predicting the minority class, resulting in high false negatives (type II errors).\n",
    "- When the categories in the target variable are imbalanced, evaluation metrics may not be accurate as they cannot refkect the effectiveness of the model in detecting minority class.\n",
    "- For this reasons, an experiment on different resampling techniques may be advantageous for dealing with the imbalance issue."
   ]
  },
  {
   "cell_type": "code",
   "execution_count": 5,
   "metadata": {},
   "outputs": [
    {
     "data": {
      "text/html": [
       "<div>\n",
       "<style scoped>\n",
       "    .dataframe tbody tr th:only-of-type {\n",
       "        vertical-align: middle;\n",
       "    }\n",
       "\n",
       "    .dataframe tbody tr th {\n",
       "        vertical-align: top;\n",
       "    }\n",
       "\n",
       "    .dataframe thead th {\n",
       "        text-align: right;\n",
       "    }\n",
       "</style>\n",
       "<table border=\"1\" class=\"dataframe\">\n",
       "  <thead>\n",
       "    <tr style=\"text-align: right;\">\n",
       "      <th></th>\n",
       "      <th>column</th>\n",
       "      <th>count</th>\n",
       "    </tr>\n",
       "  </thead>\n",
       "  <tbody>\n",
       "    <tr>\n",
       "      <th>0</th>\n",
       "      <td>status</td>\n",
       "      <td>0</td>\n",
       "    </tr>\n",
       "    <tr>\n",
       "      <th>1</th>\n",
       "      <td>text</td>\n",
       "      <td>0</td>\n",
       "    </tr>\n",
       "  </tbody>\n",
       "</table>\n",
       "</div>"
      ],
      "text/plain": [
       "   column  count\n",
       "0  status      0\n",
       "1    text      0"
      ]
     },
     "execution_count": 5,
     "metadata": {},
     "output_type": "execute_result"
    }
   ],
   "source": [
    "# check missing values\n",
    "(data.isna().sum() * 100).reset_index().rename(columns={'index':'column', 0: 'count'})"
   ]
  },
  {
   "cell_type": "markdown",
   "metadata": {},
   "source": [
    "**Comment**: As there are no missing values in the dataset, no need for data imputation or record removal."
   ]
  },
  {
   "cell_type": "code",
   "execution_count": 6,
   "metadata": {},
   "outputs": [],
   "source": [
    "# build class for cleaning text\n",
    "class TextCleaner(BaseEstimator, TransformerMixin):\n",
    "    def __init__(self):\n",
    "        pass\n",
    "    \n",
    "    def fit(self, X, y=None):\n",
    "        return self\n",
    "    \n",
    "    def transform(self, X):\n",
    "        def clean_text(text):\n",
    "            text = text.lower()  \n",
    "            text = re.sub(r'\\d+', '', text)  \n",
    "            text = re.sub(r'http\\S+|www\\S+', '', text)  \n",
    "            text = re.sub(r'[^a-zA-Z\\s]', '', text)  \n",
    "            text = re.sub(r'\\s+', ' ', text).strip()  \n",
    "            return text\n",
    "        return X.apply(clean_text)"
   ]
  },
  {
   "cell_type": "markdown",
   "metadata": {},
   "source": [
    "**Comment**: \n",
    "- The custom transformer cleans raw text in the dataset into cleaner one. \n",
    "- First, the raw text will be converted into lowercase. Converting text into lowercase is beneficial to regularize them into the same lettercase. This is necessary because capital letters in English are only used mostly in the first letter in a sentence and proper nouns. \n",
    "- Second, numbers (`\\d+`) will be removed (replaced them using nothing `''`) by using regular expression pattern. As TF-IDF will score word-types (vocabulary) based on their frequencies, different numbers will pose a challenge for the ML model. For example, if in a message contains two numbers, let's say 200 and 8, these numbers will be two different columns along with their frequencies.\n",
    "- Third, URL removal is performed. URL is removed to reduce noise and focus more on textual content. Incorporating URLs in the analysis will be less efficient as there will be a different column assigned for every unique URL.\n",
    "- Fourth, punctuation marks will be discarded from the text. These elements do not contribute much to the textual content.\n",
    "- Last, extra-spaces are also deleted. "
   ]
  },
  {
   "cell_type": "code",
   "execution_count": 7,
   "metadata": {},
   "outputs": [
    {
     "data": {
      "text/html": [
       "<div>\n",
       "<style scoped>\n",
       "    .dataframe tbody tr th:only-of-type {\n",
       "        vertical-align: middle;\n",
       "    }\n",
       "\n",
       "    .dataframe tbody tr th {\n",
       "        vertical-align: top;\n",
       "    }\n",
       "\n",
       "    .dataframe thead th {\n",
       "        text-align: right;\n",
       "    }\n",
       "</style>\n",
       "<table border=\"1\" class=\"dataframe\">\n",
       "  <thead>\n",
       "    <tr style=\"text-align: right;\">\n",
       "      <th></th>\n",
       "      <th>status</th>\n",
       "      <th>text</th>\n",
       "    </tr>\n",
       "  </thead>\n",
       "  <tbody>\n",
       "    <tr>\n",
       "      <th>1</th>\n",
       "      <td>ham</td>\n",
       "      <td>Ok lar... Joking wif u oni...</td>\n",
       "    </tr>\n",
       "    <tr>\n",
       "      <th>2</th>\n",
       "      <td>spam</td>\n",
       "      <td>Free entry in 2 a wkly comp to win FA Cup fina...</td>\n",
       "    </tr>\n",
       "    <tr>\n",
       "      <th>3</th>\n",
       "      <td>ham</td>\n",
       "      <td>U dun say so early hor... U c already then say...</td>\n",
       "    </tr>\n",
       "    <tr>\n",
       "      <th>4</th>\n",
       "      <td>ham</td>\n",
       "      <td>Nah I don't think he goes to usf, he lives aro...</td>\n",
       "    </tr>\n",
       "    <tr>\n",
       "      <th>5</th>\n",
       "      <td>spam</td>\n",
       "      <td>FreeMsg Hey there darling it's been 3 week's n...</td>\n",
       "    </tr>\n",
       "    <tr>\n",
       "      <th>6</th>\n",
       "      <td>ham</td>\n",
       "      <td>Even my brother is not like to speak with me. ...</td>\n",
       "    </tr>\n",
       "    <tr>\n",
       "      <th>7</th>\n",
       "      <td>ham</td>\n",
       "      <td>As per your request 'Melle Melle (Oru Minnamin...</td>\n",
       "    </tr>\n",
       "    <tr>\n",
       "      <th>8</th>\n",
       "      <td>spam</td>\n",
       "      <td>WINNER!! As a valued network customer you have...</td>\n",
       "    </tr>\n",
       "    <tr>\n",
       "      <th>9</th>\n",
       "      <td>spam</td>\n",
       "      <td>Had your mobile 11 months or more? U R entitle...</td>\n",
       "    </tr>\n",
       "  </tbody>\n",
       "</table>\n",
       "</div>"
      ],
      "text/plain": [
       "  status                                               text\n",
       "1    ham                      Ok lar... Joking wif u oni...\n",
       "2   spam  Free entry in 2 a wkly comp to win FA Cup fina...\n",
       "3    ham  U dun say so early hor... U c already then say...\n",
       "4    ham  Nah I don't think he goes to usf, he lives aro...\n",
       "5   spam  FreeMsg Hey there darling it's been 3 week's n...\n",
       "6    ham  Even my brother is not like to speak with me. ...\n",
       "7    ham  As per your request 'Melle Melle (Oru Minnamin...\n",
       "8   spam  WINNER!! As a valued network customer you have...\n",
       "9   spam  Had your mobile 11 months or more? U R entitle..."
      ]
     },
     "execution_count": 7,
     "metadata": {},
     "output_type": "execute_result"
    }
   ],
   "source": [
    "# check the dataset\n",
    "data.iloc[1:10, ]"
   ]
  },
  {
   "cell_type": "code",
   "execution_count": 8,
   "metadata": {},
   "outputs": [
    {
     "name": "stdout",
     "output_type": "stream",
     "text": [
      "The feature consists of 4457 rows or 79.99% of the total data.\n",
      "The feature consists of 1115 rows or 20.01% of the total data.\n"
     ]
    }
   ],
   "source": [
    "# specify features and target \n",
    "X = data['text']\n",
    "y = data['status'].apply(lambda x: 1 if x == 'spam' else 0)\n",
    "\n",
    "# split dataset into train and test\n",
    "X_train, X_test, y_train, y_test = train_test_split(X, y, test_size=0.2, random_state=42)\n",
    "print(f\"The feature consists of {X_train.shape[0]} rows or {round(X_train.shape[0]/len(data)*100, 2)}% of the total data.\")\n",
    "print(f\"The feature consists of {X_test.shape[0]} rows or {round(X_test.shape[0]/len(data)*100, 2)}% of the total data.\")"
   ]
  },
  {
   "cell_type": "markdown",
   "metadata": {},
   "source": [
    "**Comment**: 80% of the data will be used as the training set and the rest is used as the test set."
   ]
  },
  {
   "cell_type": "code",
   "execution_count": 9,
   "metadata": {},
   "outputs": [],
   "source": [
    "# pipeline 1: logistic regression\n",
    "logistic_regression = ImbPipeline([\n",
    "    ('cleaner', TextCleaner()),\n",
    "    ('tfidf', TfidfVectorizer()),\n",
    "    ('smote', SMOTE(random_state=42)),\n",
    "    ('model', LogisticRegression(max_iter=2000)) \n",
    "])\n",
    "\n",
    "# pipeline 2: naive bayes\n",
    "naive_bayes = ImbPipeline([\n",
    "    ('cleaner', TextCleaner()),\n",
    "    ('tfidf', TfidfVectorizer()),\n",
    "    ('smote', SMOTE(random_state=42)),\n",
    "    ('model', BernoulliNB())  \n",
    "])\n",
    "\n",
    "# pipeline 3: svm\n",
    "svm = ImbPipeline([\n",
    "    ('cleaner', TextCleaner()),\n",
    "    ('tfidf', TfidfVectorizer()),\n",
    "    ('smote', SMOTE(random_state=42)),\n",
    "    ('model', SVC())  \n",
    "])\n",
    "\n",
    "# pipeline 4: random forest\n",
    "random_forest = ImbPipeline([\n",
    "    ('cleaner', TextCleaner()),\n",
    "    ('tfidf', TfidfVectorizer()),\n",
    "    ('smote', SMOTE(random_state=42)),\n",
    "    ('model', RandomForestClassifier())\n",
    "])\n",
    "\n",
    "# pipeline 5: gradient boosting\n",
    "gbm = ImbPipeline([\n",
    "    ('cleaner', TextCleaner()),\n",
    "    ('tfidf', TfidfVectorizer()),\n",
    "    ('smote', SMOTE(random_state=42)),\n",
    "    ('model', GradientBoostingClassifier())  \n",
    "])\n",
    "\n",
    "# collect all pipelines, incl the algorithms\n",
    "models = {\n",
    "    'Logistic Regression': logistic_regression,\n",
    "    'Naive Bayes': naive_bayes,\n",
    "    'SVM': svm,\n",
    "    'Random Forest': random_forest,\n",
    "    'Gradient Boosting': gbm\n",
    "}"
   ]
  },
  {
   "cell_type": "markdown",
   "metadata": {},
   "source": [
    "**Comment**: \n",
    "- Model 1 is build using a logistic regression algorithm. This model exploits pipeline from the data cleaning as described above, feature extraction using `TfidfVectorizer` to convert individual words to TF-IDF scores. Afterwards, the result will be passed on to the logistic algorithm.\n",
    "- Model 2 to Model 5 are also similar to the Model 1 in the sense that they also use the same text cleaning class and the same feature extraction technique. The main difference lies on the use of different algorithms, namely Naive Bayes, Support Vector Machine, Random Forest, and Gradient Boosting.\n",
    "- These all pipelines are stored in a dictionary which will be used for data modeling in the next phase. "
   ]
  },
  {
   "cell_type": "code",
   "execution_count": 10,
   "metadata": {},
   "outputs": [
    {
     "data": {
      "text/html": [
       "<div>\n",
       "<style scoped>\n",
       "    .dataframe tbody tr th:only-of-type {\n",
       "        vertical-align: middle;\n",
       "    }\n",
       "\n",
       "    .dataframe tbody tr th {\n",
       "        vertical-align: top;\n",
       "    }\n",
       "\n",
       "    .dataframe thead th {\n",
       "        text-align: right;\n",
       "    }\n",
       "</style>\n",
       "<table border=\"1\" class=\"dataframe\">\n",
       "  <thead>\n",
       "    <tr style=\"text-align: right;\">\n",
       "      <th></th>\n",
       "      <th>00</th>\n",
       "      <th>000</th>\n",
       "      <th>000pes</th>\n",
       "      <th>008704050406</th>\n",
       "      <th>0089</th>\n",
       "      <th>0121</th>\n",
       "      <th>01223585236</th>\n",
       "      <th>01223585334</th>\n",
       "      <th>0125698789</th>\n",
       "      <th>02</th>\n",
       "      <th>...</th>\n",
       "      <th>zebra</th>\n",
       "      <th>zed</th>\n",
       "      <th>zeros</th>\n",
       "      <th>zhong</th>\n",
       "      <th>zindgi</th>\n",
       "      <th>zoe</th>\n",
       "      <th>zogtorius</th>\n",
       "      <th>zoom</th>\n",
       "      <th>zouk</th>\n",
       "      <th>zyada</th>\n",
       "    </tr>\n",
       "  </thead>\n",
       "  <tbody>\n",
       "    <tr>\n",
       "      <th>0</th>\n",
       "      <td>0.0</td>\n",
       "      <td>0.0</td>\n",
       "      <td>0.0</td>\n",
       "      <td>0.0</td>\n",
       "      <td>0.0</td>\n",
       "      <td>0.0</td>\n",
       "      <td>0.0</td>\n",
       "      <td>0.0</td>\n",
       "      <td>0.0</td>\n",
       "      <td>0.0</td>\n",
       "      <td>...</td>\n",
       "      <td>0.0</td>\n",
       "      <td>0.0</td>\n",
       "      <td>0.0</td>\n",
       "      <td>0.0</td>\n",
       "      <td>0.0</td>\n",
       "      <td>0.0</td>\n",
       "      <td>0.0</td>\n",
       "      <td>0.0</td>\n",
       "      <td>0.0</td>\n",
       "      <td>0.0</td>\n",
       "    </tr>\n",
       "    <tr>\n",
       "      <th>1</th>\n",
       "      <td>0.0</td>\n",
       "      <td>0.0</td>\n",
       "      <td>0.0</td>\n",
       "      <td>0.0</td>\n",
       "      <td>0.0</td>\n",
       "      <td>0.0</td>\n",
       "      <td>0.0</td>\n",
       "      <td>0.0</td>\n",
       "      <td>0.0</td>\n",
       "      <td>0.0</td>\n",
       "      <td>...</td>\n",
       "      <td>0.0</td>\n",
       "      <td>0.0</td>\n",
       "      <td>0.0</td>\n",
       "      <td>0.0</td>\n",
       "      <td>0.0</td>\n",
       "      <td>0.0</td>\n",
       "      <td>0.0</td>\n",
       "      <td>0.0</td>\n",
       "      <td>0.0</td>\n",
       "      <td>0.0</td>\n",
       "    </tr>\n",
       "    <tr>\n",
       "      <th>2</th>\n",
       "      <td>0.0</td>\n",
       "      <td>0.0</td>\n",
       "      <td>0.0</td>\n",
       "      <td>0.0</td>\n",
       "      <td>0.0</td>\n",
       "      <td>0.0</td>\n",
       "      <td>0.0</td>\n",
       "      <td>0.0</td>\n",
       "      <td>0.0</td>\n",
       "      <td>0.0</td>\n",
       "      <td>...</td>\n",
       "      <td>0.0</td>\n",
       "      <td>0.0</td>\n",
       "      <td>0.0</td>\n",
       "      <td>0.0</td>\n",
       "      <td>0.0</td>\n",
       "      <td>0.0</td>\n",
       "      <td>0.0</td>\n",
       "      <td>0.0</td>\n",
       "      <td>0.0</td>\n",
       "      <td>0.0</td>\n",
       "    </tr>\n",
       "    <tr>\n",
       "      <th>3</th>\n",
       "      <td>0.0</td>\n",
       "      <td>0.0</td>\n",
       "      <td>0.0</td>\n",
       "      <td>0.0</td>\n",
       "      <td>0.0</td>\n",
       "      <td>0.0</td>\n",
       "      <td>0.0</td>\n",
       "      <td>0.0</td>\n",
       "      <td>0.0</td>\n",
       "      <td>0.0</td>\n",
       "      <td>...</td>\n",
       "      <td>0.0</td>\n",
       "      <td>0.0</td>\n",
       "      <td>0.0</td>\n",
       "      <td>0.0</td>\n",
       "      <td>0.0</td>\n",
       "      <td>0.0</td>\n",
       "      <td>0.0</td>\n",
       "      <td>0.0</td>\n",
       "      <td>0.0</td>\n",
       "      <td>0.0</td>\n",
       "    </tr>\n",
       "    <tr>\n",
       "      <th>4</th>\n",
       "      <td>0.0</td>\n",
       "      <td>0.0</td>\n",
       "      <td>0.0</td>\n",
       "      <td>0.0</td>\n",
       "      <td>0.0</td>\n",
       "      <td>0.0</td>\n",
       "      <td>0.0</td>\n",
       "      <td>0.0</td>\n",
       "      <td>0.0</td>\n",
       "      <td>0.0</td>\n",
       "      <td>...</td>\n",
       "      <td>0.0</td>\n",
       "      <td>0.0</td>\n",
       "      <td>0.0</td>\n",
       "      <td>0.0</td>\n",
       "      <td>0.0</td>\n",
       "      <td>0.0</td>\n",
       "      <td>0.0</td>\n",
       "      <td>0.0</td>\n",
       "      <td>0.0</td>\n",
       "      <td>0.0</td>\n",
       "    </tr>\n",
       "  </tbody>\n",
       "</table>\n",
       "<p>5 rows × 8484 columns</p>\n",
       "</div>"
      ],
      "text/plain": [
       "    00  000  000pes  008704050406  0089  0121  01223585236  01223585334  \\\n",
       "0  0.0  0.0     0.0           0.0   0.0   0.0          0.0          0.0   \n",
       "1  0.0  0.0     0.0           0.0   0.0   0.0          0.0          0.0   \n",
       "2  0.0  0.0     0.0           0.0   0.0   0.0          0.0          0.0   \n",
       "3  0.0  0.0     0.0           0.0   0.0   0.0          0.0          0.0   \n",
       "4  0.0  0.0     0.0           0.0   0.0   0.0          0.0          0.0   \n",
       "\n",
       "   0125698789   02  ...  zebra  zed  zeros  zhong  zindgi  zoe  zogtorius  \\\n",
       "0         0.0  0.0  ...    0.0  0.0    0.0    0.0     0.0  0.0        0.0   \n",
       "1         0.0  0.0  ...    0.0  0.0    0.0    0.0     0.0  0.0        0.0   \n",
       "2         0.0  0.0  ...    0.0  0.0    0.0    0.0     0.0  0.0        0.0   \n",
       "3         0.0  0.0  ...    0.0  0.0    0.0    0.0     0.0  0.0        0.0   \n",
       "4         0.0  0.0  ...    0.0  0.0    0.0    0.0     0.0  0.0        0.0   \n",
       "\n",
       "   zoom  zouk  zyada  \n",
       "0   0.0   0.0    0.0  \n",
       "1   0.0   0.0    0.0  \n",
       "2   0.0   0.0    0.0  \n",
       "3   0.0   0.0    0.0  \n",
       "4   0.0   0.0    0.0  \n",
       "\n",
       "[5 rows x 8484 columns]"
      ]
     },
     "metadata": {},
     "output_type": "display_data"
    }
   ],
   "source": [
    "# Assuming you have defined X and y from your dataset\n",
    "X_transformed = TfidfVectorizer().fit_transform(X)\n",
    "\n",
    "# Example of displaying TF-IDF conversion\n",
    "feature_names = TfidfVectorizer().fit(X).get_feature_names_out()\n",
    "tfidf_matrix = TfidfVectorizer().fit_transform(X)\n",
    "\n",
    "# Convert to DataFrame for display\n",
    "tfidf_df = pd.DataFrame(data=tfidf_matrix.toarray(), columns=feature_names)\n",
    "display(tfidf_df.head())"
   ]
  },
  {
   "cell_type": "markdown",
   "metadata": {},
   "source": [
    "## <b>3 Data Modeling</b>"
   ]
  },
  {
   "cell_type": "markdown",
   "metadata": {},
   "source": [
    "Before executing the data modeling, I will recap the metrics for evaluating the classification model's performance. As previously mentioned in the introduction section, the chosen metric is F1. In general, F1 combines two other performance metrics, namely precision and recall.\n",
    "- **Precision**: This metrics evaluates accuracy of a model at identifying positive cases, and in this case, what is meant by \"positive case\" is a spam. $$\\text{Precision} = \\frac{TP}{TP + FP}$$\n",
    "- **Recall**: This metrics measures the rate of true positives (e.g., actual spam, predicted as spam) from actual positive instances. $$\\text{Recall}=\\frac{TP}{TP + FN}$$\n",
    "- As F1 is a combination between precision and recall, the F1 score can be measured as follows. $$F1=\\frac{2 \\times \\text{precision} \\times \\text{recall}}{\\text{precision} + \\text{recall}}$$\n",
    "\n",
    "**Note**: Despite the metric of interest is F1, other metrics such as accuracy and area under the ROC curve (ROC-AUC) score will also be shown to complement the main metric."
   ]
  },
  {
   "cell_type": "markdown",
   "metadata": {},
   "source": [
    "### **3.1 Model Comparison**"
   ]
  },
  {
   "cell_type": "code",
   "execution_count": 11,
   "metadata": {},
   "outputs": [
    {
     "data": {
      "text/html": [
       "<div>\n",
       "<style scoped>\n",
       "    .dataframe tbody tr th:only-of-type {\n",
       "        vertical-align: middle;\n",
       "    }\n",
       "\n",
       "    .dataframe tbody tr th {\n",
       "        vertical-align: top;\n",
       "    }\n",
       "\n",
       "    .dataframe thead th {\n",
       "        text-align: right;\n",
       "    }\n",
       "</style>\n",
       "<table border=\"1\" class=\"dataframe\">\n",
       "  <thead>\n",
       "    <tr style=\"text-align: right;\">\n",
       "      <th></th>\n",
       "      <th>Model</th>\n",
       "      <th>Accuracy</th>\n",
       "      <th>Recall</th>\n",
       "      <th>Precision</th>\n",
       "      <th>AUC</th>\n",
       "      <th>F1 Score</th>\n",
       "    </tr>\n",
       "  </thead>\n",
       "  <tbody>\n",
       "    <tr>\n",
       "      <th>1</th>\n",
       "      <td>Naive Bayes</td>\n",
       "      <td>0.9810</td>\n",
       "      <td>0.8649</td>\n",
       "      <td>0.9923</td>\n",
       "      <td>0.9319</td>\n",
       "      <td>0.9242</td>\n",
       "    </tr>\n",
       "    <tr>\n",
       "      <th>2</th>\n",
       "      <td>SVM</td>\n",
       "      <td>0.9799</td>\n",
       "      <td>0.8665</td>\n",
       "      <td>0.9823</td>\n",
       "      <td>0.9320</td>\n",
       "      <td>0.9206</td>\n",
       "    </tr>\n",
       "    <tr>\n",
       "      <th>0</th>\n",
       "      <td>Logistic Regression</td>\n",
       "      <td>0.9770</td>\n",
       "      <td>0.9037</td>\n",
       "      <td>0.9243</td>\n",
       "      <td>0.9461</td>\n",
       "      <td>0.9134</td>\n",
       "    </tr>\n",
       "    <tr>\n",
       "      <th>3</th>\n",
       "      <td>Random Forest</td>\n",
       "      <td>0.9752</td>\n",
       "      <td>0.8171</td>\n",
       "      <td>0.9984</td>\n",
       "      <td>0.9084</td>\n",
       "      <td>0.8984</td>\n",
       "    </tr>\n",
       "    <tr>\n",
       "      <th>4</th>\n",
       "      <td>Gradient Boosting</td>\n",
       "      <td>0.9625</td>\n",
       "      <td>0.8140</td>\n",
       "      <td>0.8983</td>\n",
       "      <td>0.8998</td>\n",
       "      <td>0.8531</td>\n",
       "    </tr>\n",
       "  </tbody>\n",
       "</table>\n",
       "</div>"
      ],
      "text/plain": [
       "                 Model  Accuracy  Recall  Precision     AUC  F1 Score\n",
       "1          Naive Bayes    0.9810  0.8649     0.9923  0.9319    0.9242\n",
       "2                  SVM    0.9799  0.8665     0.9823  0.9320    0.9206\n",
       "0  Logistic Regression    0.9770  0.9037     0.9243  0.9461    0.9134\n",
       "3        Random Forest    0.9752  0.8171     0.9984  0.9084    0.8984\n",
       "4    Gradient Boosting    0.9625  0.8140     0.8983  0.8998    0.8531"
      ]
     },
     "metadata": {},
     "output_type": "display_data"
    }
   ],
   "source": [
    "dfs = []\n",
    "# set up cross-val fold with 5 splits\n",
    "cv = KFold(n_splits=5, shuffle=True, random_state=42)  \n",
    "\n",
    "for name, model in models.items():\n",
    "    # initialize lists to store metrics\n",
    "    accuracy_list, recall_list, f1_list, precision_list, auc_list = [], [], [], [], []\n",
    "    \n",
    "    for train_index, test_index in cv.split(X):\n",
    "        # split data into train and test sets for this fold\n",
    "        X_train, X_test = X[train_index], X[test_index]\n",
    "        y_train, y_test = y[train_index], y[test_index]\n",
    "\n",
    "        # fit the model\n",
    "        model.fit(X_train, y_train)\n",
    "        y_pred = model.predict(X_test)\n",
    "    \n",
    "        accuracy = accuracy_score(y_test, y_pred)\n",
    "        recall = recall_score(y_test, y_pred)\n",
    "        f1score = f1_score(y_test, y_pred)\n",
    "        precision = precision_score(y_test, y_pred)\n",
    "        auc = roc_auc_score(y_test, y_pred)\n",
    "\n",
    "        # append metrics for this fold\n",
    "        accuracy_list.append(accuracy)\n",
    "        recall_list.append(recall)\n",
    "        f1_list.append(f1score)\n",
    "        precision_list.append(precision)\n",
    "        auc_list.append(auc)\n",
    "\n",
    "    # calculate and store average metrics\n",
    "    avg_accuracy = round(np.mean(accuracy_list), 4)\n",
    "    avg_recall = round(np.mean(recall_list), 4)\n",
    "    avg_f1score = round(np.mean(f1_list), 4)\n",
    "    avg_precision = round(np.mean(precision_list), 4)\n",
    "    avg_auc = round(np.mean(auc_list), 4)\n",
    "\n",
    "    # create df for each model's metrics (averaged across folds)\n",
    "    df = pd.DataFrame({\n",
    "        'Model': [name],\n",
    "        'Accuracy': [avg_accuracy],\n",
    "        'Recall': [avg_recall],\n",
    "        'Precision': [avg_precision],\n",
    "        'AUC': [avg_auc],\n",
    "        'F1 Score': [avg_f1score],\n",
    "    })\n",
    "    \n",
    "    # append dfs\n",
    "    dfs.append(df)\n",
    "\n",
    "# display results\n",
    "metrics_df = pd.concat(dfs, ignore_index=True)\n",
    "display(metrics_df.sort_values(by='F1 Score', ascending=False))"
   ]
  },
  {
   "cell_type": "markdown",
   "metadata": {},
   "source": [
    "**Comment**\n",
    "- The table of modeling outputs summarizes performance reports on different models based on five metrics, namely accuracy, recall, precision, AUC, and F1. \n",
    "- Based on the table, the highest performing model is Naive Bayes with F1 score of 0.9242."
   ]
  },
  {
   "cell_type": "code",
   "execution_count": 12,
   "metadata": {},
   "outputs": [],
   "source": [
    "# set up parameter grids\n",
    "param_grids = {\n",
    "    'Logistic Regression': {\n",
    "        'model__C': [0.01, 0.1, 1, 10, 100],\n",
    "        'model__solver': ['liblinear', 'saga']\n",
    "    },\n",
    "    'Naive Bayes': {\n",
    "        'model__alpha': [0.01, 0.1, 1, 10]\n",
    "    },\n",
    "    'SVM': {\n",
    "        'model__C': [0.01, 0.1, 1, 10, 100],\n",
    "        'model__kernel': ['linear', 'rbf', 'poly']\n",
    "    },\n",
    "    'Random Forest': {\n",
    "        'model__n_estimators': [10, 50, 100],\n",
    "        'model__max_depth': [None, 10, 20, 30]\n",
    "    },\n",
    "    'Gradient Boosting': {\n",
    "        'model__n_estimators': [50, 100, 200],\n",
    "        'model__learning_rate': [0.01, 0.1, 0.2]\n",
    "    }\n",
    "}"
   ]
  },
  {
   "cell_type": "code",
   "execution_count": 13,
   "metadata": {},
   "outputs": [
    {
     "data": {
      "text/html": [
       "<div>\n",
       "<style scoped>\n",
       "    .dataframe tbody tr th:only-of-type {\n",
       "        vertical-align: middle;\n",
       "    }\n",
       "\n",
       "    .dataframe tbody tr th {\n",
       "        vertical-align: top;\n",
       "    }\n",
       "\n",
       "    .dataframe thead th {\n",
       "        text-align: right;\n",
       "    }\n",
       "</style>\n",
       "<table border=\"1\" class=\"dataframe\">\n",
       "  <thead>\n",
       "    <tr style=\"text-align: right;\">\n",
       "      <th></th>\n",
       "      <th>Model</th>\n",
       "      <th>Best Params</th>\n",
       "      <th>Accuracy</th>\n",
       "      <th>Recall</th>\n",
       "      <th>Precision</th>\n",
       "      <th>AUC</th>\n",
       "      <th>F1 Score</th>\n",
       "    </tr>\n",
       "  </thead>\n",
       "  <tbody>\n",
       "    <tr>\n",
       "      <th>1</th>\n",
       "      <td>Naive Bayes</td>\n",
       "      <td>{'model__alpha': 0.01}</td>\n",
       "      <td>0.9847</td>\n",
       "      <td>0.8917</td>\n",
       "      <td>1.0000</td>\n",
       "      <td>0.9459</td>\n",
       "      <td>0.9428</td>\n",
       "    </tr>\n",
       "    <tr>\n",
       "      <th>0</th>\n",
       "      <td>Logistic Regression</td>\n",
       "      <td>{'model__C': 10, 'model__solver': 'liblinear'}</td>\n",
       "      <td>0.9811</td>\n",
       "      <td>0.8981</td>\n",
       "      <td>0.9658</td>\n",
       "      <td>0.9464</td>\n",
       "      <td>0.9307</td>\n",
       "    </tr>\n",
       "    <tr>\n",
       "      <th>2</th>\n",
       "      <td>SVM</td>\n",
       "      <td>{'model__C': 1, 'model__kernel': 'linear'}</td>\n",
       "      <td>0.9803</td>\n",
       "      <td>0.9045</td>\n",
       "      <td>0.9530</td>\n",
       "      <td>0.9486</td>\n",
       "      <td>0.9281</td>\n",
       "    </tr>\n",
       "    <tr>\n",
       "      <th>4</th>\n",
       "      <td>Gradient Boosting</td>\n",
       "      <td>{'model__learning_rate': 0.2, 'model__n_estima...</td>\n",
       "      <td>0.9722</td>\n",
       "      <td>0.8344</td>\n",
       "      <td>0.9632</td>\n",
       "      <td>0.9146</td>\n",
       "      <td>0.8942</td>\n",
       "    </tr>\n",
       "    <tr>\n",
       "      <th>3</th>\n",
       "      <td>Random Forest</td>\n",
       "      <td>{'model__max_depth': 30, 'model__n_estimators'...</td>\n",
       "      <td>0.9650</td>\n",
       "      <td>0.7580</td>\n",
       "      <td>0.9917</td>\n",
       "      <td>0.8785</td>\n",
       "      <td>0.8592</td>\n",
       "    </tr>\n",
       "  </tbody>\n",
       "</table>\n",
       "</div>"
      ],
      "text/plain": [
       "                 Model                                        Best Params  \\\n",
       "1          Naive Bayes                             {'model__alpha': 0.01}   \n",
       "0  Logistic Regression     {'model__C': 10, 'model__solver': 'liblinear'}   \n",
       "2                  SVM         {'model__C': 1, 'model__kernel': 'linear'}   \n",
       "4    Gradient Boosting  {'model__learning_rate': 0.2, 'model__n_estima...   \n",
       "3        Random Forest  {'model__max_depth': 30, 'model__n_estimators'...   \n",
       "\n",
       "   Accuracy  Recall  Precision     AUC  F1 Score  \n",
       "1    0.9847  0.8917     1.0000  0.9459    0.9428  \n",
       "0    0.9811  0.8981     0.9658  0.9464    0.9307  \n",
       "2    0.9803  0.9045     0.9530  0.9486    0.9281  \n",
       "4    0.9722  0.8344     0.9632  0.9146    0.8942  \n",
       "3    0.9650  0.7580     0.9917  0.8785    0.8592  "
      ]
     },
     "metadata": {},
     "output_type": "display_data"
    }
   ],
   "source": [
    "# perform hyperparameter tuning and evaluate each model\n",
    "dfs = []\n",
    "for name, model in models.items():\n",
    "    grid_search = GridSearchCV(model, param_grids[name], cv=5, scoring='f1', n_jobs=-1)\n",
    "    grid_search.fit(X_train, y_train)\n",
    "    best_model = grid_search.best_estimator_\n",
    "    y_pred = best_model.predict(X_test)\n",
    "    \n",
    "    accuracy = accuracy_score(y_test, y_pred)\n",
    "    recall = recall_score(y_test, y_pred)\n",
    "    precision = precision_score(y_test, y_pred)\n",
    "    auc = roc_auc_score(y_test, y_pred)\n",
    "    f1score = f1_score(y_test, y_pred)\n",
    "    \n",
    "    # create a df for each model's metrics\n",
    "    df = pd.DataFrame({\n",
    "        'Model': [name],\n",
    "        'Best Params': [grid_search.best_params_],\n",
    "        'Accuracy': [round(accuracy, 4)],\n",
    "        'Recall': [round(recall, 4)],\n",
    "        'Precision': [round(precision, 4)],\n",
    "        'AUC': [round(auc,4)],\n",
    "        'F1 Score': [round(f1score, 4)]\n",
    "    })\n",
    "    \n",
    "    # append the DataFrame to the list\n",
    "    dfs.append(df)\n",
    "\n",
    "# display results\n",
    "metrics_df = pd.concat(dfs, ignore_index=True)\n",
    "display(metrics_df.sort_values(by='F1 Score', ascending=False))"
   ]
  },
  {
   "cell_type": "markdown",
   "metadata": {},
   "source": [
    "**Comment**\n",
    "- The table displays the results of model tuning using grid search CV. This technique seeks to find the optimal hyperparameters for each model defined previously.\n",
    "- As shown, Naive Bayes has the highest F1 score of 0.9428, offering the highest balance between precision and recall. "
   ]
  },
  {
   "cell_type": "markdown",
   "metadata": {},
   "source": [
    "## **4 Best Model and the Evaluation**\n",
    "### **4.1 Model Selection**"
   ]
  },
  {
   "cell_type": "code",
   "execution_count": 14,
   "metadata": {},
   "outputs": [
    {
     "data": {
      "text/html": [
       "<div>\n",
       "<style scoped>\n",
       "    .dataframe tbody tr th:only-of-type {\n",
       "        vertical-align: middle;\n",
       "    }\n",
       "\n",
       "    .dataframe tbody tr th {\n",
       "        vertical-align: top;\n",
       "    }\n",
       "\n",
       "    .dataframe thead th {\n",
       "        text-align: right;\n",
       "    }\n",
       "</style>\n",
       "<table border=\"1\" class=\"dataframe\">\n",
       "  <thead>\n",
       "    <tr style=\"text-align: right;\">\n",
       "      <th></th>\n",
       "      <th>Fold</th>\n",
       "      <th>Accuracy</th>\n",
       "      <th>Recall</th>\n",
       "      <th>Precision</th>\n",
       "      <th>AUC</th>\n",
       "      <th>F1 Score</th>\n",
       "    </tr>\n",
       "  </thead>\n",
       "  <tbody>\n",
       "    <tr>\n",
       "      <th>0</th>\n",
       "      <td>1</td>\n",
       "      <td>0.979821</td>\n",
       "      <td>0.864407</td>\n",
       "      <td>0.980769</td>\n",
       "      <td>0.992686</td>\n",
       "      <td>0.918919</td>\n",
       "    </tr>\n",
       "    <tr>\n",
       "      <th>1</th>\n",
       "      <td>2</td>\n",
       "      <td>0.986547</td>\n",
       "      <td>0.898305</td>\n",
       "      <td>1.000000</td>\n",
       "      <td>0.991854</td>\n",
       "      <td>0.946429</td>\n",
       "    </tr>\n",
       "    <tr>\n",
       "      <th>2</th>\n",
       "      <td>3</td>\n",
       "      <td>0.970852</td>\n",
       "      <td>0.813559</td>\n",
       "      <td>0.960000</td>\n",
       "      <td>0.997372</td>\n",
       "      <td>0.880734</td>\n",
       "    </tr>\n",
       "    <tr>\n",
       "      <th>3</th>\n",
       "      <td>4</td>\n",
       "      <td>0.984305</td>\n",
       "      <td>0.881356</td>\n",
       "      <td>1.000000</td>\n",
       "      <td>0.988350</td>\n",
       "      <td>0.936937</td>\n",
       "    </tr>\n",
       "    <tr>\n",
       "      <th>4</th>\n",
       "      <td>5</td>\n",
       "      <td>0.988789</td>\n",
       "      <td>0.915254</td>\n",
       "      <td>1.000000</td>\n",
       "      <td>0.999036</td>\n",
       "      <td>0.955752</td>\n",
       "    </tr>\n",
       "    <tr>\n",
       "      <th>5</th>\n",
       "      <td>6</td>\n",
       "      <td>0.977578</td>\n",
       "      <td>0.830508</td>\n",
       "      <td>1.000000</td>\n",
       "      <td>0.993606</td>\n",
       "      <td>0.907407</td>\n",
       "    </tr>\n",
       "    <tr>\n",
       "      <th>6</th>\n",
       "      <td>7</td>\n",
       "      <td>0.986547</td>\n",
       "      <td>0.898305</td>\n",
       "      <td>1.000000</td>\n",
       "      <td>0.982306</td>\n",
       "      <td>0.946429</td>\n",
       "    </tr>\n",
       "    <tr>\n",
       "      <th>7</th>\n",
       "      <td>8</td>\n",
       "      <td>0.982063</td>\n",
       "      <td>0.864407</td>\n",
       "      <td>1.000000</td>\n",
       "      <td>0.999212</td>\n",
       "      <td>0.927273</td>\n",
       "    </tr>\n",
       "    <tr>\n",
       "      <th>8</th>\n",
       "      <td>9</td>\n",
       "      <td>0.970787</td>\n",
       "      <td>0.813559</td>\n",
       "      <td>0.960000</td>\n",
       "      <td>0.983885</td>\n",
       "      <td>0.880734</td>\n",
       "    </tr>\n",
       "    <tr>\n",
       "      <th>9</th>\n",
       "      <td>10</td>\n",
       "      <td>0.979775</td>\n",
       "      <td>0.864407</td>\n",
       "      <td>0.980769</td>\n",
       "      <td>0.996180</td>\n",
       "      <td>0.918919</td>\n",
       "    </tr>\n",
       "    <tr>\n",
       "      <th>10</th>\n",
       "      <td>Mean</td>\n",
       "      <td>0.980706</td>\n",
       "      <td>0.864407</td>\n",
       "      <td>0.988154</td>\n",
       "      <td>0.992449</td>\n",
       "      <td>0.921953</td>\n",
       "    </tr>\n",
       "    <tr>\n",
       "      <th>11</th>\n",
       "      <td>Std</td>\n",
       "      <td>0.006283</td>\n",
       "      <td>0.035732</td>\n",
       "      <td>0.016787</td>\n",
       "      <td>0.005982</td>\n",
       "      <td>0.026292</td>\n",
       "    </tr>\n",
       "  </tbody>\n",
       "</table>\n",
       "</div>"
      ],
      "text/plain": [
       "    Fold  Accuracy    Recall  Precision       AUC  F1 Score\n",
       "0      1  0.979821  0.864407   0.980769  0.992686  0.918919\n",
       "1      2  0.986547  0.898305   1.000000  0.991854  0.946429\n",
       "2      3  0.970852  0.813559   0.960000  0.997372  0.880734\n",
       "3      4  0.984305  0.881356   1.000000  0.988350  0.936937\n",
       "4      5  0.988789  0.915254   1.000000  0.999036  0.955752\n",
       "5      6  0.977578  0.830508   1.000000  0.993606  0.907407\n",
       "6      7  0.986547  0.898305   1.000000  0.982306  0.946429\n",
       "7      8  0.982063  0.864407   1.000000  0.999212  0.927273\n",
       "8      9  0.970787  0.813559   0.960000  0.983885  0.880734\n",
       "9     10  0.979775  0.864407   0.980769  0.996180  0.918919\n",
       "10  Mean  0.980706  0.864407   0.988154  0.992449  0.921953\n",
       "11   Std  0.006283  0.035732   0.016787  0.005982  0.026292"
      ]
     },
     "metadata": {},
     "output_type": "display_data"
    }
   ],
   "source": [
    "# store naive bayes as model (for simplification)\n",
    "model = naive_bayes\n",
    "\n",
    "# specify cv technique\n",
    "cv = StratifiedKFold(n_splits=10, shuffle=True, random_state=42)\n",
    "\n",
    "# perform cross-validation and store results\n",
    "accuracy_scores = cross_val_score(model, X_train, y_train, cv=cv, scoring='accuracy')\n",
    "recall_scores = cross_val_score(model, X_train, y_train, cv=cv, scoring='recall')\n",
    "precision_scores = cross_val_score(model, X_train, y_train, cv=cv, scoring='precision')\n",
    "auc_scores = cross_val_score(model, X_train, y_train, cv=cv, scoring='roc_auc')\n",
    "f1_scores = cross_val_score(model, X_train, y_train, cv=cv, scoring='f1')\n",
    "\n",
    "# create df to store results for each fold\n",
    "results_df = pd.DataFrame({\n",
    "    'Fold': np.arange(1, 11),\n",
    "    'Accuracy': accuracy_scores,\n",
    "    'Recall': recall_scores,\n",
    "    'Precision': precision_scores,\n",
    "    'AUC': auc_scores,\n",
    "    'F1 Score': f1_scores\n",
    "})\n",
    "\n",
    "# get mean and std\n",
    "mean_scores = results_df.mean()\n",
    "std_scores = results_df.std()\n",
    "\n",
    "# combine into one df\n",
    "mean_df = pd.DataFrame({\n",
    "    'Fold': ['Mean'],\n",
    "    'Accuracy': [mean_scores['Accuracy']],\n",
    "    'Recall': [mean_scores['Recall']],\n",
    "    'Precision': [mean_scores['Precision']],\n",
    "    'AUC': [mean_scores['AUC']],\n",
    "    'F1 Score': [mean_scores['F1 Score']]\n",
    "})\n",
    "\n",
    "std_df = pd.DataFrame({\n",
    "    'Fold': ['Std'],\n",
    "    'Accuracy': [std_scores['Accuracy']],\n",
    "    'Recall': [std_scores['Recall']],\n",
    "    'Precision': [std_scores['Precision']],\n",
    "    'AUC': [std_scores['AUC']],\n",
    "    'F1 Score': [std_scores['F1 Score']]\n",
    "})\n",
    "\n",
    "results_df = pd.concat([results_df, mean_df, std_df], ignore_index=True)\n",
    "\n",
    "# display results\n",
    "display(results_df)"
   ]
  },
  {
   "cell_type": "markdown",
   "metadata": {},
   "source": [
    "**Comment**:  Lorem ipsum"
   ]
  },
  {
   "cell_type": "code",
   "execution_count": 15,
   "metadata": {},
   "outputs": [
    {
     "data": {
      "text/html": [
       "<div>\n",
       "<style scoped>\n",
       "    .dataframe tbody tr th:only-of-type {\n",
       "        vertical-align: middle;\n",
       "    }\n",
       "\n",
       "    .dataframe tbody tr th {\n",
       "        vertical-align: top;\n",
       "    }\n",
       "\n",
       "    .dataframe thead th {\n",
       "        text-align: right;\n",
       "    }\n",
       "</style>\n",
       "<table border=\"1\" class=\"dataframe\">\n",
       "  <thead>\n",
       "    <tr style=\"text-align: right;\">\n",
       "      <th></th>\n",
       "      <th>Fold</th>\n",
       "      <th>Accuracy</th>\n",
       "      <th>Recall</th>\n",
       "      <th>Precision</th>\n",
       "      <th>AUC</th>\n",
       "      <th>F1 Score</th>\n",
       "    </tr>\n",
       "  </thead>\n",
       "  <tbody>\n",
       "    <tr>\n",
       "      <th>0</th>\n",
       "      <td>1</td>\n",
       "      <td>0.986547</td>\n",
       "      <td>0.898305</td>\n",
       "      <td>1.000000</td>\n",
       "      <td>0.949153</td>\n",
       "      <td>0.946429</td>\n",
       "    </tr>\n",
       "    <tr>\n",
       "      <th>1</th>\n",
       "      <td>2</td>\n",
       "      <td>0.986547</td>\n",
       "      <td>0.898305</td>\n",
       "      <td>1.000000</td>\n",
       "      <td>0.949153</td>\n",
       "      <td>0.946429</td>\n",
       "    </tr>\n",
       "    <tr>\n",
       "      <th>2</th>\n",
       "      <td>3</td>\n",
       "      <td>0.973094</td>\n",
       "      <td>0.813559</td>\n",
       "      <td>0.979592</td>\n",
       "      <td>0.905488</td>\n",
       "      <td>0.888889</td>\n",
       "    </tr>\n",
       "    <tr>\n",
       "      <th>3</th>\n",
       "      <td>4</td>\n",
       "      <td>0.982063</td>\n",
       "      <td>0.864407</td>\n",
       "      <td>1.000000</td>\n",
       "      <td>0.932203</td>\n",
       "      <td>0.927273</td>\n",
       "    </tr>\n",
       "    <tr>\n",
       "      <th>4</th>\n",
       "      <td>5</td>\n",
       "      <td>0.991031</td>\n",
       "      <td>0.932203</td>\n",
       "      <td>1.000000</td>\n",
       "      <td>0.966102</td>\n",
       "      <td>0.964912</td>\n",
       "    </tr>\n",
       "    <tr>\n",
       "      <th>5</th>\n",
       "      <td>6</td>\n",
       "      <td>0.975336</td>\n",
       "      <td>0.813559</td>\n",
       "      <td>1.000000</td>\n",
       "      <td>0.906780</td>\n",
       "      <td>0.897196</td>\n",
       "    </tr>\n",
       "    <tr>\n",
       "      <th>6</th>\n",
       "      <td>7</td>\n",
       "      <td>0.986547</td>\n",
       "      <td>0.898305</td>\n",
       "      <td>1.000000</td>\n",
       "      <td>0.949153</td>\n",
       "      <td>0.946429</td>\n",
       "    </tr>\n",
       "    <tr>\n",
       "      <th>7</th>\n",
       "      <td>8</td>\n",
       "      <td>0.982063</td>\n",
       "      <td>0.864407</td>\n",
       "      <td>1.000000</td>\n",
       "      <td>0.932203</td>\n",
       "      <td>0.927273</td>\n",
       "    </tr>\n",
       "    <tr>\n",
       "      <th>8</th>\n",
       "      <td>9</td>\n",
       "      <td>0.973034</td>\n",
       "      <td>0.813559</td>\n",
       "      <td>0.979592</td>\n",
       "      <td>0.905484</td>\n",
       "      <td>0.888889</td>\n",
       "    </tr>\n",
       "    <tr>\n",
       "      <th>9</th>\n",
       "      <td>10</td>\n",
       "      <td>0.979775</td>\n",
       "      <td>0.847458</td>\n",
       "      <td>1.000000</td>\n",
       "      <td>0.923729</td>\n",
       "      <td>0.917431</td>\n",
       "    </tr>\n",
       "    <tr>\n",
       "      <th>10</th>\n",
       "      <td>Mean</td>\n",
       "      <td>0.981604</td>\n",
       "      <td>0.864407</td>\n",
       "      <td>0.995918</td>\n",
       "      <td>0.931945</td>\n",
       "      <td>0.925115</td>\n",
       "    </tr>\n",
       "    <tr>\n",
       "      <th>11</th>\n",
       "      <td>Std</td>\n",
       "      <td>0.005925</td>\n",
       "      <td>0.040109</td>\n",
       "      <td>0.008163</td>\n",
       "      <td>0.020386</td>\n",
       "      <td>0.025336</td>\n",
       "    </tr>\n",
       "  </tbody>\n",
       "</table>\n",
       "</div>"
      ],
      "text/plain": [
       "    Fold  Accuracy    Recall  Precision       AUC  F1 Score\n",
       "0      1  0.986547  0.898305   1.000000  0.949153  0.946429\n",
       "1      2  0.986547  0.898305   1.000000  0.949153  0.946429\n",
       "2      3  0.973094  0.813559   0.979592  0.905488  0.888889\n",
       "3      4  0.982063  0.864407   1.000000  0.932203  0.927273\n",
       "4      5  0.991031  0.932203   1.000000  0.966102  0.964912\n",
       "5      6  0.975336  0.813559   1.000000  0.906780  0.897196\n",
       "6      7  0.986547  0.898305   1.000000  0.949153  0.946429\n",
       "7      8  0.982063  0.864407   1.000000  0.932203  0.927273\n",
       "8      9  0.973034  0.813559   0.979592  0.905484  0.888889\n",
       "9     10  0.979775  0.847458   1.000000  0.923729  0.917431\n",
       "10  Mean  0.981604  0.864407   0.995918  0.931945  0.925115\n",
       "11   Std  0.005925  0.040109   0.008163  0.020386  0.025336"
      ]
     },
     "metadata": {},
     "output_type": "display_data"
    }
   ],
   "source": [
    "# specify param grid\n",
    "param_grid = {\n",
    "    'model__alpha': [0.01, 0.1, 1, 10]\n",
    "}\n",
    "\n",
    "# specify cv technique\n",
    "cv = StratifiedKFold(n_splits=10, shuffle=True, random_state=42)\n",
    "\n",
    "# perform grid search cv with cross-validation\n",
    "grid_search = GridSearchCV(estimator=model, \n",
    "                           param_grid=param_grid, \n",
    "                           scoring='f1', \n",
    "                           cv=cv, \n",
    "                           n_jobs=-1)\n",
    "grid_search.fit(X_train, y_train)\n",
    "\n",
    "# get the best model\n",
    "best_model = grid_search.best_estimator_\n",
    "\n",
    "# init lists to store results for each fold\n",
    "accuracy_scores = []\n",
    "recall_scores = []\n",
    "precision_scores = []\n",
    "roc_auc_scores = []\n",
    "f1_scores = []\n",
    "\n",
    "# perform cross-validation and collect scores for each fold\n",
    "for fold, (train_idx, val_idx) in enumerate(cv.split(X_train, y_train), 1):\n",
    "    X_train_fold, X_val_fold = X_train.iloc[train_idx], X_train.iloc[val_idx]\n",
    "    y_train_fold, y_val_fold = y_train.iloc[train_idx], y_train.iloc[val_idx]\n",
    "\n",
    "    # fit the model on the training fold\n",
    "    best_model.fit(X_train_fold, y_train_fold)\n",
    "    \n",
    "    # predict on the validation fold\n",
    "    y_pred = best_model.predict(X_val_fold)\n",
    "    \n",
    "    # calculate evaluation metrics for the fold\n",
    "    accuracy = accuracy_score(y_val_fold, y_pred)\n",
    "    recall = recall_score(y_val_fold, y_pred)\n",
    "    precision = precision_score(y_val_fold, y_pred)\n",
    "    roc_auc = roc_auc_score(y_val_fold, y_pred)\n",
    "    f1 = f1_score(y_val_fold, y_pred)\n",
    "    \n",
    "    # combine scores to respective lists\n",
    "    accuracy_scores.append(accuracy)\n",
    "    recall_scores.append(recall)\n",
    "    precision_scores.append(precision)\n",
    "    roc_auc_scores.append(roc_auc)\n",
    "    f1_scores.append(f1)\n",
    "\n",
    "# get mean and std \n",
    "mean_accuracy = np.mean(accuracy_scores)\n",
    "mean_recall = np.mean(recall_scores)\n",
    "mean_precision = np.mean(precision_scores)\n",
    "mean_roc_auc = np.mean(roc_auc_scores)\n",
    "mean_f1 = np.mean(f1_scores)\n",
    "std_accuracy = np.std(accuracy_scores)\n",
    "std_recall = np.std(recall_scores)\n",
    "std_precision = np.std(precision_scores)\n",
    "std_roc_auc = np.std(roc_auc_scores)\n",
    "std_f1 = np.std(f1_scores)\n",
    "\n",
    "# create df to display results\n",
    "results_dict = {\n",
    "    'Fold': list(range(1, 11)) + ['Mean', 'Std'],\n",
    "    'Accuracy': accuracy_scores + [mean_accuracy, std_accuracy],\n",
    "    'Recall': recall_scores + [mean_recall, std_recall],\n",
    "    'Precision': precision_scores + [mean_precision, std_precision],\n",
    "    'AUC': roc_auc_scores + [mean_roc_auc, std_roc_auc],\n",
    "    'F1 Score': f1_scores + [mean_f1, std_f1]\n",
    "}\n",
    "results_df = pd.DataFrame(results_dict)\n",
    "\n",
    "# display result\n",
    "display(results_df)"
   ]
  },
  {
   "cell_type": "markdown",
   "metadata": {},
   "source": [
    "**Comment**: Lorem ipsum"
   ]
  },
  {
   "cell_type": "code",
   "execution_count": 16,
   "metadata": {},
   "outputs": [
    {
     "name": "stdout",
     "output_type": "stream",
     "text": [
      "Pipeline(steps=[('cleaner', TextCleaner()), ('tfidf', TfidfVectorizer()),\n",
      "                ('smote', SMOTE(random_state=42)),\n",
      "                ('model', BernoulliNB(alpha=0.1))])\n"
     ]
    }
   ],
   "source": [
    "# print best model\n",
    "print(best_model)"
   ]
  },
  {
   "cell_type": "markdown",
   "metadata": {},
   "source": [
    "**Comment**: Data will firstly go through the text cleaning process using `TextCleaner`, and be converted into TF-IDF scoring via `TfidfVectorizer`. After its completion, the data will be resampled using synthetic minority over-sampling (SMOTE) technique to balance the target class (`spam` vs `ham`). And in the end, the preprocessed data will be fed to the Bernoulli Naive Bayes algorithm."
   ]
  },
  {
   "cell_type": "markdown",
   "metadata": {},
   "source": [
    "### **4.2 Best Model Evaluation** "
   ]
  },
  {
   "cell_type": "markdown",
   "metadata": {},
   "source": [
    "### **4.2.1 Classification Report**"
   ]
  },
  {
   "cell_type": "code",
   "execution_count": 17,
   "metadata": {},
   "outputs": [
    {
     "name": "stdout",
     "output_type": "stream",
     "text": [
      "Here are the evaluation metrics:\n",
      "Accuracy: 0.9829\n",
      "Recall: 0.879\n",
      "F1 score: 0.9356\n",
      "Precision: 1.0\n",
      "ROC-AUC: 0.9751\n",
      "\n",
      "Classification Report:\n",
      "              precision    recall  f1-score   support\n",
      "\n",
      "           0       0.98      1.00      0.99       957\n",
      "           1       1.00      0.88      0.94       157\n",
      "\n",
      "    accuracy                           0.98      1114\n",
      "   macro avg       0.99      0.94      0.96      1114\n",
      "weighted avg       0.98      0.98      0.98      1114\n",
      "\n"
     ]
    }
   ],
   "source": [
    "# train the model\n",
    "best_model.fit(X_train, y_train)\n",
    "\n",
    "# make predictions on the test set\n",
    "y_pred = best_model.predict(X_test)\n",
    "y_pred_proba = best_model.predict_proba(X_test)[:, 1]\n",
    "\n",
    "# evaluate the model\n",
    "accuracy = accuracy_score(y_test, y_pred)\n",
    "recall = recall_score(y_test, y_pred)\n",
    "f1score = f1_score(y_test, y_pred)\n",
    "precision = precision_score(y_test, y_pred)\n",
    "roc_auc = roc_auc_score(y_test, y_pred_proba)\n",
    "report = classification_report(y_test, y_pred)\n",
    "\n",
    "# display result\n",
    "print('Here are the evaluation metrics:')\n",
    "print('Accuracy:', round(accuracy, 4))\n",
    "print('Recall:', round(recall, 4))\n",
    "print('F1 score:', round(f1score, 4))\n",
    "print('Precision:', round(precision, 4))\n",
    "print('ROC-AUC:', round(roc_auc, 4))\n",
    "print('\\nClassification Report:')\n",
    "print(report)"
   ]
  },
  {
   "cell_type": "markdown",
   "metadata": {},
   "source": [
    "**Comment**: Lorem ipsum"
   ]
  },
  {
   "cell_type": "markdown",
   "metadata": {},
   "source": [
    "### **4.2.2 Confusion Matrix**"
   ]
  },
  {
   "cell_type": "code",
   "execution_count": 18,
   "metadata": {},
   "outputs": [
    {
     "data": {
      "image/png": "[encoded data removed]",
      "text/plain": [
       "<Figure size 800x600 with 2 Axes>"
      ]
     },
     "metadata": {},
     "output_type": "display_data"
    }
   ],
   "source": [
    "import matplotlib.pyplot as plt\n",
    "import seaborn as sns\n",
    "from sklearn.metrics import confusion_matrix\n",
    "\n",
    "# Calculate confusion matrix\n",
    "conf_mat = confusion_matrix(y_test, y_pred)\n",
    "\n",
    "# Plot confusion matrix\n",
    "plt.figure(figsize=(8, 6))\n",
    "sns.heatmap(conf_mat, annot=True, fmt='d', cmap='Blues', \n",
    "            xticklabels=['Ham', 'Spam'], \n",
    "            yticklabels=['Ham', 'Spam'])\n",
    "plt.xlabel('Predicted')\n",
    "plt.ylabel('Actual')\n",
    "plt.title('Confusion matrix of the Naive Bayes model')\n",
    "plt.show()"
   ]
  },
  {
   "cell_type": "markdown",
   "metadata": {},
   "source": [
    "**Comment**:\n",
    "- **True Positives (TP)** (actual Ham, prediction Ham): 957 \"Ham\" messages were correctly identified as \"Ham\".\n",
    "- **False Negatives (FN)** (actual Spam, prediction Ham): 17 \"Spam\" messages were incorrectly labeled as \"Ham\".\n",
    "- **False Positives (FP)** (actual Ham prediction Spam): There were 0 instances where \"Ham\" messages were wrongly marked as \"Spam\".\n",
    "- **True Negatives (TN)** (actual Spam, prediction Spam): 140 spam messages were correctly classified as \"Spam\"."
   ]
  },
  {
   "cell_type": "markdown",
   "metadata": {},
   "source": [
    "### **4.2.3 Precision-Recall Curve** "
   ]
  },
  {
   "cell_type": "code",
   "execution_count": 19,
   "metadata": {},
   "outputs": [
    {
     "data": {
      "image/png": "[encoded data removed]",
      "text/plain": [
       "<Figure size 640x480 with 1 Axes>"
      ]
     },
     "metadata": {},
     "output_type": "display_data"
    }
   ],
   "source": [
    "from sklearn.metrics import PrecisionRecallDisplay\n",
    "PrecisionRecallDisplay.from_estimator(\n",
    "   best_model, X_test, y_test)\n",
    "plt.title('Precision-recall curve of Naive Bayes model', loc='center')\n",
    "plt.show()"
   ]
  },
  {
   "cell_type": "markdown",
   "metadata": {},
   "source": [
    "**Comment**\n",
    "- Precision-recall curve displays the precision-recall trade-off of a model in different thresholds.\n",
    "- The model starts with high accuracy (almost 1.0) but begins to make more mistakes when it tries to capture all positive cases. \n",
    "- The high average precision (AP) score indicates that despite this trade-off, the model is generally reliable in distinguishing between classes."
   ]
  },
  {
   "cell_type": "markdown",
   "metadata": {},
   "source": [
    "### **4.2.4 Learning Curve Plot**"
   ]
  },
  {
   "cell_type": "code",
   "execution_count": 20,
   "metadata": {},
   "outputs": [
    {
     "data": {
      "image/png": "[encoded data removed]",
      "text/plain": [
       "<Figure size 640x480 with 1 Axes>"
      ]
     },
     "metadata": {},
     "output_type": "display_data"
    }
   ],
   "source": [
    "import numpy as np\n",
    "import matplotlib.pyplot as plt\n",
    "from sklearn.model_selection import learning_curve\n",
    "from sklearn.metrics import f1_score\n",
    "\n",
    "train_sizes, train_scores, test_scores = learning_curve(\n",
    "    naive_bayes, X, y, train_sizes=np.linspace(0.1, 1.0, 5), scoring='f1', cv=5\n",
    ")\n",
    "\n",
    "train_scores_mean = np.mean(train_scores, axis=1)\n",
    "train_scores_std = np.std(train_scores, axis=1)\n",
    "test_scores_mean = np.mean(test_scores, axis=1)\n",
    "test_scores_std = np.std(test_scores, axis=1)\n",
    "\n",
    "plt.figure()\n",
    "plt.title(\"Learning curve of Naive Bayes model\")\n",
    "plt.xlabel(\"Training examples\")\n",
    "plt.ylabel(\"F1 Score\")\n",
    "plt.grid()\n",
    "\n",
    "plt.fill_between(\n",
    "    train_sizes,\n",
    "    train_scores_mean - train_scores_std,\n",
    "    train_scores_mean + train_scores_std,\n",
    "    alpha=0.1,\n",
    "    color=\"r\",\n",
    ")\n",
    "plt.fill_between(\n",
    "    train_sizes,\n",
    "    test_scores_mean - test_scores_std,\n",
    "    test_scores_mean + test_scores_std,\n",
    "    alpha=0.1,\n",
    "    color=\"g\",\n",
    ")\n",
    "plt.plot(train_sizes, train_scores_mean, 'o-', color=\"r\", label=\"Training score\")\n",
    "plt.plot(train_sizes, test_scores_mean, 'o-', color=\"g\", label=\"Cross-validation score\")\n",
    "plt.legend(loc=\"best\")\n",
    "plt.ylim(0.0, 1.0)  \n",
    "plt.show()"
   ]
  },
  {
   "cell_type": "markdown",
   "metadata": {},
   "source": [
    "**Comment**: \n",
    "- The training score (red line) represents the performance of the best model (Bernoulli Naive Bayes) on the training data. The training score remains high from the start to the end regardless of how many training samples were added.\n",
    "- The cross-balidation score (green line) shows how well the model performs on unseen data. Despite starting low, the score is getting higher as the number of training instance was added. The score got more stable around 1500 instances.\n",
    "- As the both lines are stable and close to each other, adding more training data does not likely to increase the performance of the Bernoulli Naive Bayes model."
   ]
  },
  {
   "cell_type": "markdown",
   "metadata": {},
   "source": [
    "### **4.2.5 ROC-AUC Curve**"
   ]
  },
  {
   "cell_type": "code",
   "execution_count": 21,
   "metadata": {},
   "outputs": [
    {
     "data": {
      "image/png": "[encoded data removed]",
      "text/plain": [
       "<Figure size 640x480 with 1 Axes>"
      ]
     },
     "metadata": {},
     "output_type": "display_data"
    }
   ],
   "source": [
    "from sklearn.metrics import roc_curve, auc\n",
    "\n",
    "# Get the best model\n",
    "best_model = grid_search.best_estimator_\n",
    "\n",
    "# Predict probabilities\n",
    "y_pred_proba = best_model.predict_proba(X_test)\n",
    "\n",
    "# Compute ROC curve and ROC area for each class\n",
    "fpr, tpr, _ = roc_curve(y_test, y_pred_proba[:, 1])\n",
    "roc_auc = auc(fpr, tpr)\n",
    "\n",
    "# Plot ROC curve\n",
    "plt.figure()\n",
    "plt.plot(fpr, tpr, color='darkorange', lw=2,\n",
    "         label='ROC curve (area = {0:0.2f})'.format(roc_auc))\n",
    "plt.plot([0, 1], [0, 1], 'k--', lw=2)\n",
    "plt.xlim([0.0, 1.0])\n",
    "plt.ylim([0.0, 1.05])\n",
    "plt.xlabel('False Positive Rate')\n",
    "plt.ylabel('True Positive Rate')\n",
    "plt.title('ROC-AUC plot for Naive Bayes model')\n",
    "plt.legend(loc=\"lower right\")\n",
    "plt.show()"
   ]
  },
  {
   "cell_type": "markdown",
   "metadata": {},
   "source": [
    "**Comment**\n",
    "- The ROC-AUC plot displays a high true positive rate (TPR) with a low false positive rate (FPR), suggesting that the model correctly identifies a high number of positives while keeping false positives (FPs) low.\n",
    "- As the closer the AUC score to 1.0, the better performance a model is, the plot then indicates model is performing very well in terms of ROC-AUC, which is a strong indicator of its ability to classify messages accurately as \"Spam\" or \"Ham\"."
   ]
  },
  {
   "cell_type": "markdown",
   "metadata": {},
   "source": [
    "### **4.2.6 Reliability Curve**"
   ]
  },
  {
   "cell_type": "code",
   "execution_count": 22,
   "metadata": {},
   "outputs": [
    {
     "data": {
      "image/png": "[encoded data removed]",
      "text/plain": [
       "<Figure size 640x480 with 1 Axes>"
      ]
     },
     "metadata": {},
     "output_type": "display_data"
    }
   ],
   "source": [
    "from sklearn.calibration import CalibratedClassifierCV, calibration_curve\n",
    "\n",
    "# generate prediction and probability of prediction\n",
    "y_pred_best_model = best_model.predict(X_test)\n",
    "y_prob_best_model = best_model.predict_proba(X_test)[:, 1]\n",
    "\n",
    "# make calibration curve plot\n",
    "prob_true, prob_pred = calibration_curve(y_test, y_prob_best_model, n_bins=10)\n",
    "\n",
    "plt.plot(prob_pred, prob_true, marker='o', linewidth=1, label='Naive Bayes')\n",
    "plt.plot([0, 1], [0, 1], linestyle='--', label='Perfectly calibrated')\n",
    "plt.xlabel('Mean predicted probability')\n",
    "plt.ylabel('Fraction of positives')\n",
    "plt.title('Reliability curve plot for Naive Bayes model: Pre-calibration')\n",
    "plt.legend()\n",
    "plt.show()"
   ]
  },
  {
   "cell_type": "markdown",
   "metadata": {},
   "source": [
    "**Comment**\n",
    "- Before calibration, the model’s confidence in its predictions was not aligned with the actual likelihood of messages being spam (dashed diagonal line), which could lead to misclassification.\n",
    "- For this reason, this model needs a calibration so that the model's probability (or confidence) of prediction can be more reliable and more accurate. "
   ]
  },
  {
   "cell_type": "code",
   "execution_count": 23,
   "metadata": {},
   "outputs": [
    {
     "data": {
      "text/html": [
       "<style>#sk-container-id-1 {color: black;background-color: white;}#sk-container-id-1 pre{padding: 0;}#sk-container-id-1 div.sk-toggleable {background-color: white;}#sk-container-id-1 label.sk-toggleable__label {cursor: pointer;display: block;width: 100%;margin-bottom: 0;padding: 0.3em;box-sizing: border-box;text-align: center;}#sk-container-id-1 label.sk-toggleable__label-arrow:before {content: \"▸\";float: left;margin-right: 0.25em;color: #696969;}#sk-container-id-1 label.sk-toggleable__label-arrow:hover:before {color: black;}#sk-container-id-1 div.sk-estimator:hover label.sk-toggleable__label-arrow:before {color: black;}#sk-container-id-1 div.sk-toggleable__content {max-height: 0;max-width: 0;overflow: hidden;text-align: left;background-color: #f0f8ff;}#sk-container-id-1 div.sk-toggleable__content pre {margin: 0.2em;color: black;border-radius: 0.25em;background-color: #f0f8ff;}#sk-container-id-1 input.sk-toggleable__control:checked~div.sk-toggleable__content {max-height: 200px;max-width: 100%;overflow: auto;}#sk-container-id-1 input.sk-toggleable__control:checked~label.sk-toggleable__label-arrow:before {content: \"▾\";}#sk-container-id-1 div.sk-estimator input.sk-toggleable__control:checked~label.sk-toggleable__label {background-color: #d4ebff;}#sk-container-id-1 div.sk-label input.sk-toggleable__control:checked~label.sk-toggleable__label {background-color: #d4ebff;}#sk-container-id-1 input.sk-hidden--visually {border: 0;clip: rect(1px 1px 1px 1px);clip: rect(1px, 1px, 1px, 1px);height: 1px;margin: -1px;overflow: hidden;padding: 0;position: absolute;width: 1px;}#sk-container-id-1 div.sk-estimator {font-family: monospace;background-color: #f0f8ff;border: 1px dotted black;border-radius: 0.25em;box-sizing: border-box;margin-bottom: 0.5em;}#sk-container-id-1 div.sk-estimator:hover {background-color: #d4ebff;}#sk-container-id-1 div.sk-parallel-item::after {content: \"\";width: 100%;border-bottom: 1px solid gray;flex-grow: 1;}#sk-container-id-1 div.sk-label:hover label.sk-toggleable__label {background-color: #d4ebff;}#sk-container-id-1 div.sk-serial::before {content: \"\";position: absolute;border-left: 1px solid gray;box-sizing: border-box;top: 0;bottom: 0;left: 50%;z-index: 0;}#sk-container-id-1 div.sk-serial {display: flex;flex-direction: column;align-items: center;background-color: white;padding-right: 0.2em;padding-left: 0.2em;position: relative;}#sk-container-id-1 div.sk-item {position: relative;z-index: 1;}#sk-container-id-1 div.sk-parallel {display: flex;align-items: stretch;justify-content: center;background-color: white;position: relative;}#sk-container-id-1 div.sk-item::before, #sk-container-id-1 div.sk-parallel-item::before {content: \"\";position: absolute;border-left: 1px solid gray;box-sizing: border-box;top: 0;bottom: 0;left: 50%;z-index: -1;}#sk-container-id-1 div.sk-parallel-item {display: flex;flex-direction: column;z-index: 1;position: relative;background-color: white;}#sk-container-id-1 div.sk-parallel-item:first-child::after {align-self: flex-end;width: 50%;}#sk-container-id-1 div.sk-parallel-item:last-child::after {align-self: flex-start;width: 50%;}#sk-container-id-1 div.sk-parallel-item:only-child::after {width: 0;}#sk-container-id-1 div.sk-dashed-wrapped {border: 1px dashed gray;margin: 0 0.4em 0.5em 0.4em;box-sizing: border-box;padding-bottom: 0.4em;background-color: white;}#sk-container-id-1 div.sk-label label {font-family: monospace;font-weight: bold;display: inline-block;line-height: 1.2em;}#sk-container-id-1 div.sk-label-container {text-align: center;}#sk-container-id-1 div.sk-container {/* jupyter's `normalize.less` sets `[hidden] { display: none; }` but bootstrap.min.css set `[hidden] { display: none !important; }` so we also need the `!important` here to be able to override the default hidden behavior on the sphinx rendered scikit-learn.org. See: https://github.com/scikit-learn/scikit-learn/issues/21755 */display: inline-block !important;position: relative;}#sk-container-id-1 div.sk-text-repr-fallback {display: none;}</style><div id=\"sk-container-id-1\" class=\"sk-top-container\"><div class=\"sk-text-repr-fallback\"><pre>CalibratedClassifierCV(cv=&#x27;prefit&#x27;,\n",
       "                       estimator=Pipeline(steps=[(&#x27;cleaner&#x27;, TextCleaner()),\n",
       "                                                 (&#x27;tfidf&#x27;, TfidfVectorizer()),\n",
       "                                                 (&#x27;smote&#x27;,\n",
       "                                                  SMOTE(random_state=42)),\n",
       "                                                 (&#x27;model&#x27;,\n",
       "                                                  BernoulliNB(alpha=0.1))]),\n",
       "                       method=&#x27;isotonic&#x27;)</pre><b>In a Jupyter environment, please rerun this cell to show the HTML representation or trust the notebook. <br />On GitHub, the HTML representation is unable to render, please try loading this page with nbviewer.org.</b></div><div class=\"sk-container\" hidden><div class=\"sk-item sk-dashed-wrapped\"><div class=\"sk-label-container\"><div class=\"sk-label sk-toggleable\"><input class=\"sk-toggleable__control sk-hidden--visually\" id=\"sk-estimator-id-1\" type=\"checkbox\" ><label for=\"sk-estimator-id-1\" class=\"sk-toggleable__label sk-toggleable__label-arrow\">CalibratedClassifierCV</label><div class=\"sk-toggleable__content\"><pre>CalibratedClassifierCV(cv=&#x27;prefit&#x27;,\n",
       "                       estimator=Pipeline(steps=[(&#x27;cleaner&#x27;, TextCleaner()),\n",
       "                                                 (&#x27;tfidf&#x27;, TfidfVectorizer()),\n",
       "                                                 (&#x27;smote&#x27;,\n",
       "                                                  SMOTE(random_state=42)),\n",
       "                                                 (&#x27;model&#x27;,\n",
       "                                                  BernoulliNB(alpha=0.1))]),\n",
       "                       method=&#x27;isotonic&#x27;)</pre></div></div></div><div class=\"sk-parallel\"><div class=\"sk-parallel-item\"><div class=\"sk-item\"><div class=\"sk-label-container\"><div class=\"sk-label sk-toggleable\"><input class=\"sk-toggleable__control sk-hidden--visually\" id=\"sk-estimator-id-2\" type=\"checkbox\" ><label for=\"sk-estimator-id-2\" class=\"sk-toggleable__label sk-toggleable__label-arrow\">estimator: Pipeline</label><div class=\"sk-toggleable__content\"><pre>Pipeline(steps=[(&#x27;cleaner&#x27;, TextCleaner()), (&#x27;tfidf&#x27;, TfidfVectorizer()),\n",
       "                (&#x27;smote&#x27;, SMOTE(random_state=42)),\n",
       "                (&#x27;model&#x27;, BernoulliNB(alpha=0.1))])</pre></div></div></div><div class=\"sk-serial\"><div class=\"sk-item\"><div class=\"sk-serial\"><div class=\"sk-item\"><div class=\"sk-estimator sk-toggleable\"><input class=\"sk-toggleable__control sk-hidden--visually\" id=\"sk-estimator-id-3\" type=\"checkbox\" ><label for=\"sk-estimator-id-3\" class=\"sk-toggleable__label sk-toggleable__label-arrow\">TextCleaner</label><div class=\"sk-toggleable__content\"><pre>TextCleaner()</pre></div></div></div><div class=\"sk-item\"><div class=\"sk-estimator sk-toggleable\"><input class=\"sk-toggleable__control sk-hidden--visually\" id=\"sk-estimator-id-4\" type=\"checkbox\" ><label for=\"sk-estimator-id-4\" class=\"sk-toggleable__label sk-toggleable__label-arrow\">TfidfVectorizer</label><div class=\"sk-toggleable__content\"><pre>TfidfVectorizer()</pre></div></div></div><div class=\"sk-item\"><div class=\"sk-estimator sk-toggleable\"><input class=\"sk-toggleable__control sk-hidden--visually\" id=\"sk-estimator-id-5\" type=\"checkbox\" ><label for=\"sk-estimator-id-5\" class=\"sk-toggleable__label sk-toggleable__label-arrow\">SMOTE</label><div class=\"sk-toggleable__content\"><pre>SMOTE(random_state=42)</pre></div></div></div><div class=\"sk-item\"><div class=\"sk-estimator sk-toggleable\"><input class=\"sk-toggleable__control sk-hidden--visually\" id=\"sk-estimator-id-6\" type=\"checkbox\" ><label for=\"sk-estimator-id-6\" class=\"sk-toggleable__label sk-toggleable__label-arrow\">BernoulliNB</label><div class=\"sk-toggleable__content\"><pre>BernoulliNB(alpha=0.1)</pre></div></div></div></div></div></div></div></div></div></div></div></div>"
      ],
      "text/plain": [
       "CalibratedClassifierCV(cv='prefit',\n",
       "                       estimator=Pipeline(steps=[('cleaner', TextCleaner()),\n",
       "                                                 ('tfidf', TfidfVectorizer()),\n",
       "                                                 ('smote',\n",
       "                                                  SMOTE(random_state=42)),\n",
       "                                                 ('model',\n",
       "                                                  BernoulliNB(alpha=0.1))]),\n",
       "                       method='isotonic')"
      ]
     },
     "execution_count": 23,
     "metadata": {},
     "output_type": "execute_result"
    }
   ],
   "source": [
    "# calibrate model\n",
    "calibrated_best_model= CalibratedClassifierCV(best_model, method='isotonic', cv='prefit')\n",
    "calibrated_best_model.fit(X_train, y_train)"
   ]
  },
  {
   "cell_type": "code",
   "execution_count": 24,
   "metadata": {},
   "outputs": [
    {
     "data": {
      "image/png": "[encoded data removed]",
      "text/plain": [
       "<Figure size 640x480 with 1 Axes>"
      ]
     },
     "metadata": {},
     "output_type": "display_data"
    }
   ],
   "source": [
    "# generate new predicted probabilities\n",
    "y_prob_calibrated = calibrated_best_model.predict_proba(X_train)[:, 1]\n",
    "prob_true_calibrated, prob_pred_calibrated = calibration_curve(y_train, y_prob_calibrated, n_bins=10)\n",
    "\n",
    "# plot reliability curve\n",
    "plt.plot(prob_pred_calibrated, prob_true_calibrated, marker='o', linewidth=1, label='Calibrated Model')\n",
    "plt.plot([0, 1], [0, 1], linestyle='--', label='Perfectly calibrated')\n",
    "plt.xlabel('Mean predicted probability')\n",
    "plt.ylabel('Fraction of positives')\n",
    "plt.title('Reliability plot for Naive Bayes: Post-calibration')\n",
    "plt.legend()\n",
    "plt.show()"
   ]
  },
  {
   "cell_type": "markdown",
   "metadata": {},
   "source": [
    "**Comment**\n",
    "- As the blue line (NB's probabilities of predictions) is close to the orange one (perfect predictions), the model's predictions are reasonably accurate."
   ]
  },
  {
   "cell_type": "code",
   "execution_count": 25,
   "metadata": {},
   "outputs": [
    {
     "name": "stdout",
     "output_type": "stream",
     "text": [
      "              precision    recall  f1-score   support\n",
      "\n",
      "           0       0.99      1.00      0.99       957\n",
      "           1       0.97      0.91      0.94       157\n",
      "\n",
      "    accuracy                           0.98      1114\n",
      "   macro avg       0.98      0.95      0.97      1114\n",
      "weighted avg       0.98      0.98      0.98      1114\n",
      "\n"
     ]
    }
   ],
   "source": [
    "# make predictions with the model\n",
    "y_pred_best_model = calibrated_best_model.predict(X_test)\n",
    "y_prob_best_model = calibrated_best_model.predict_proba(X_test)[:, 1]\n",
    "\n",
    "print(classification_report(y_test, y_pred_best_model))"
   ]
  },
  {
   "cell_type": "markdown",
   "metadata": {},
   "source": [
    "**Comment**\n",
    "- The precision scores for both class 0 (ham) and 1 (spam) show that the model made no errors when identifying both classes.\n",
    "- The recall score for class 1 (spam) is slightly below the class 0 (ham), indicating the model missed 2% of spam messages (n = 3 out of 150).\n",
    "- As the values are almost or equal to 1, the F1 scores indicates excellent performance. "
   ]
  },
  {
   "cell_type": "markdown",
   "metadata": {},
   "source": [
    "## **5 Model Explanation**"
   ]
  },
  {
   "cell_type": "code",
   "execution_count": 26,
   "metadata": {},
   "outputs": [
    {
     "data": {
      "text/html": [
       "<div>\n",
       "<style scoped>\n",
       "    .dataframe tbody tr th:only-of-type {\n",
       "        vertical-align: middle;\n",
       "    }\n",
       "\n",
       "    .dataframe tbody tr th {\n",
       "        vertical-align: top;\n",
       "    }\n",
       "\n",
       "    .dataframe thead th {\n",
       "        text-align: right;\n",
       "    }\n",
       "</style>\n",
       "<table border=\"1\" class=\"dataframe\">\n",
       "  <thead>\n",
       "    <tr style=\"text-align: right;\">\n",
       "      <th></th>\n",
       "      <th>X_test</th>\n",
       "      <th>y_test</th>\n",
       "    </tr>\n",
       "  </thead>\n",
       "  <tbody>\n",
       "    <tr>\n",
       "      <th>77</th>\n",
       "      <td>I like you peoples very much:) but am very shy...</td>\n",
       "      <td>0</td>\n",
       "    </tr>\n",
       "    <tr>\n",
       "      <th>94</th>\n",
       "      <td>Havent planning to buy later. I check already ...</td>\n",
       "      <td>0</td>\n",
       "    </tr>\n",
       "    <tr>\n",
       "      <th>98</th>\n",
       "      <td>Hi. Wk been ok - on hols now! Yes on for a bit...</td>\n",
       "      <td>0</td>\n",
       "    </tr>\n",
       "    <tr>\n",
       "      <th>114</th>\n",
       "      <td>Wa, ur openin sentence very formal... Anyway, ...</td>\n",
       "      <td>0</td>\n",
       "    </tr>\n",
       "    <tr>\n",
       "      <th>116</th>\n",
       "      <td>You are a winner U have been specially selecte...</td>\n",
       "      <td>1</td>\n",
       "    </tr>\n",
       "  </tbody>\n",
       "</table>\n",
       "</div>"
      ],
      "text/plain": [
       "                                                X_test  y_test\n",
       "77   I like you peoples very much:) but am very shy...       0\n",
       "94   Havent planning to buy later. I check already ...       0\n",
       "98   Hi. Wk been ok - on hols now! Yes on for a bit...       0\n",
       "114  Wa, ur openin sentence very formal... Anyway, ...       0\n",
       "116  You are a winner U have been specially selecte...       1"
      ]
     },
     "execution_count": 26,
     "metadata": {},
     "output_type": "execute_result"
    }
   ],
   "source": [
    "# check X_test and y_test\n",
    "pd.DataFrame({'X_test':X_test, \n",
    "              'y_test': y_test}).iloc[10:15, :]"
   ]
  },
  {
   "cell_type": "code",
   "execution_count": 27,
   "metadata": {},
   "outputs": [
    {
     "data": {
      "text/plain": [
       "1.6840166119298974e-21"
      ]
     },
     "execution_count": 27,
     "metadata": {},
     "output_type": "execute_result"
    }
   ],
   "source": [
    "# check predicted probability for instance 11\n",
    "best_model.predict_proba(X_test)[:,1][11]"
   ]
  },
  {
   "cell_type": "markdown",
   "metadata": {},
   "source": [
    "**Comment**: \n",
    "- Two code blocks above are used to see instances and predicted probability of the selected email.\n",
    "- As can be seen, the status is a spam and the probability of model's prediction (similar to confidence score) is 1.0, meaning that the probability of the model is 100%.\n",
    "- Now let us see how the model works using LIME (**L**ocal **I**nterpretable **M**odel-agnostic **E**xplanations ). \n",
    "    - This explainer helps in explaining why the model made a specific prediction by highlighting the influence of each feature. \n",
    "    - In this case, the feature is each word extracted from the email (column `text`)."
   ]
  },
  {
   "cell_type": "code",
   "execution_count": 29,
   "metadata": {},
   "outputs": [
    {
     "ename": "AttributeError",
     "evalue": "'list' object has no attribute 'apply'",
     "output_type": "error",
     "traceback": [
      "\u001b[0;31m---------------------------------------------------------------------------\u001b[0m",
      "\u001b[0;31mAttributeError\u001b[0m                            Traceback (most recent call last)",
      "Cell \u001b[0;32mIn[29], line 8\u001b[0m\n\u001b[1;32m      5\u001b[0m explainer \u001b[38;5;241m=\u001b[39m LimeTextExplainer(class_names\u001b[38;5;241m=\u001b[39m[\u001b[38;5;124m'\u001b[39m\u001b[38;5;124mHam\u001b[39m\u001b[38;5;124m'\u001b[39m, \u001b[38;5;124m'\u001b[39m\u001b[38;5;124mSpam\u001b[39m\u001b[38;5;124m'\u001b[39m])\n\u001b[1;32m      7\u001b[0m \u001b[38;5;66;03m# explain instance idx 11\u001b[39;00m\n\u001b[0;32m----> 8\u001b[0m exp \u001b[38;5;241m=\u001b[39m \u001b[43mexplainer\u001b[49m\u001b[38;5;241;43m.\u001b[39;49m\u001b[43mexplain_instance\u001b[49m\u001b[43m(\u001b[49m\u001b[43mX_test\u001b[49m\u001b[38;5;241;43m.\u001b[39;49m\u001b[43miloc\u001b[49m\u001b[43m[\u001b[49m\u001b[38;5;241;43m11\u001b[39;49m\u001b[43m]\u001b[49m\u001b[43m,\u001b[49m\u001b[43m \u001b[49m\u001b[43mbest_model\u001b[49m\u001b[38;5;241;43m.\u001b[39;49m\u001b[43mpredict_proba\u001b[49m\u001b[43m,\u001b[49m\u001b[43m \u001b[49m\u001b[43mnum_features\u001b[49m\u001b[38;5;241;43m=\u001b[39;49m\u001b[38;5;241;43m50\u001b[39;49m\u001b[43m)\u001b[49m\n\u001b[1;32m     10\u001b[0m \u001b[38;5;66;03m# display the explanation\u001b[39;00m\n\u001b[1;32m     11\u001b[0m exp\u001b[38;5;241m.\u001b[39mshow_in_notebook(text\u001b[38;5;241m=\u001b[39m\u001b[38;5;28;01mTrue\u001b[39;00m)\n",
      "File \u001b[0;32m~/.pyenv/versions/3.9.16/lib/python3.9/site-packages/lime/lime_text.py:413\u001b[0m, in \u001b[0;36mLimeTextExplainer.explain_instance\u001b[0;34m(self, text_instance, classifier_fn, labels, top_labels, num_features, num_samples, distance_metric, model_regressor)\u001b[0m\n\u001b[1;32m    406\u001b[0m indexed_string \u001b[38;5;241m=\u001b[39m (IndexedCharacters(\n\u001b[1;32m    407\u001b[0m     text_instance, bow\u001b[38;5;241m=\u001b[39m\u001b[38;5;28mself\u001b[39m\u001b[38;5;241m.\u001b[39mbow, mask_string\u001b[38;5;241m=\u001b[39m\u001b[38;5;28mself\u001b[39m\u001b[38;5;241m.\u001b[39mmask_string)\n\u001b[1;32m    408\u001b[0m                   \u001b[38;5;28;01mif\u001b[39;00m \u001b[38;5;28mself\u001b[39m\u001b[38;5;241m.\u001b[39mchar_level \u001b[38;5;28;01melse\u001b[39;00m\n\u001b[1;32m    409\u001b[0m                   IndexedString(text_instance, bow\u001b[38;5;241m=\u001b[39m\u001b[38;5;28mself\u001b[39m\u001b[38;5;241m.\u001b[39mbow,\n\u001b[1;32m    410\u001b[0m                                 split_expression\u001b[38;5;241m=\u001b[39m\u001b[38;5;28mself\u001b[39m\u001b[38;5;241m.\u001b[39msplit_expression,\n\u001b[1;32m    411\u001b[0m                                 mask_string\u001b[38;5;241m=\u001b[39m\u001b[38;5;28mself\u001b[39m\u001b[38;5;241m.\u001b[39mmask_string))\n\u001b[1;32m    412\u001b[0m domain_mapper \u001b[38;5;241m=\u001b[39m TextDomainMapper(indexed_string)\n\u001b[0;32m--> 413\u001b[0m data, yss, distances \u001b[38;5;241m=\u001b[39m \u001b[38;5;28;43mself\u001b[39;49m\u001b[38;5;241;43m.\u001b[39;49m\u001b[43m__data_labels_distances\u001b[49m\u001b[43m(\u001b[49m\n\u001b[1;32m    414\u001b[0m \u001b[43m    \u001b[49m\u001b[43mindexed_string\u001b[49m\u001b[43m,\u001b[49m\u001b[43m \u001b[49m\u001b[43mclassifier_fn\u001b[49m\u001b[43m,\u001b[49m\u001b[43m \u001b[49m\u001b[43mnum_samples\u001b[49m\u001b[43m,\u001b[49m\n\u001b[1;32m    415\u001b[0m \u001b[43m    \u001b[49m\u001b[43mdistance_metric\u001b[49m\u001b[38;5;241;43m=\u001b[39;49m\u001b[43mdistance_metric\u001b[49m\u001b[43m)\u001b[49m\n\u001b[1;32m    416\u001b[0m \u001b[38;5;28;01mif\u001b[39;00m \u001b[38;5;28mself\u001b[39m\u001b[38;5;241m.\u001b[39mclass_names \u001b[38;5;129;01mis\u001b[39;00m \u001b[38;5;28;01mNone\u001b[39;00m:\n\u001b[1;32m    417\u001b[0m     \u001b[38;5;28mself\u001b[39m\u001b[38;5;241m.\u001b[39mclass_names \u001b[38;5;241m=\u001b[39m [\u001b[38;5;28mstr\u001b[39m(x) \u001b[38;5;28;01mfor\u001b[39;00m x \u001b[38;5;129;01min\u001b[39;00m \u001b[38;5;28mrange\u001b[39m(yss[\u001b[38;5;241m0\u001b[39m]\u001b[38;5;241m.\u001b[39mshape[\u001b[38;5;241m0\u001b[39m])]\n",
      "File \u001b[0;32m~/.pyenv/versions/3.9.16/lib/python3.9/site-packages/lime/lime_text.py:482\u001b[0m, in \u001b[0;36mLimeTextExplainer.__data_labels_distances\u001b[0;34m(self, indexed_string, classifier_fn, num_samples, distance_metric)\u001b[0m\n\u001b[1;32m    480\u001b[0m     data[i, inactive] \u001b[38;5;241m=\u001b[39m \u001b[38;5;241m0\u001b[39m\n\u001b[1;32m    481\u001b[0m     inverse_data\u001b[38;5;241m.\u001b[39mappend(indexed_string\u001b[38;5;241m.\u001b[39minverse_removing(inactive))\n\u001b[0;32m--> 482\u001b[0m labels \u001b[38;5;241m=\u001b[39m \u001b[43mclassifier_fn\u001b[49m\u001b[43m(\u001b[49m\u001b[43minverse_data\u001b[49m\u001b[43m)\u001b[49m\n\u001b[1;32m    483\u001b[0m distances \u001b[38;5;241m=\u001b[39m distance_fn(sp\u001b[38;5;241m.\u001b[39msparse\u001b[38;5;241m.\u001b[39mcsr_matrix(data))\n\u001b[1;32m    484\u001b[0m \u001b[38;5;28;01mreturn\u001b[39;00m data, labels, distances\n",
      "File \u001b[0;32m~/.pyenv/versions/3.9.16/lib/python3.9/site-packages/imblearn/pipeline.py:642\u001b[0m, in \u001b[0;36mPipeline.predict_proba\u001b[0;34m(self, X, **params)\u001b[0m\n\u001b[1;32m    640\u001b[0m \u001b[38;5;28;01mif\u001b[39;00m \u001b[38;5;129;01mnot\u001b[39;00m _routing_enabled():\n\u001b[1;32m    641\u001b[0m     \u001b[38;5;28;01mfor\u001b[39;00m _, name, transform \u001b[38;5;129;01min\u001b[39;00m \u001b[38;5;28mself\u001b[39m\u001b[38;5;241m.\u001b[39m_iter(with_final\u001b[38;5;241m=\u001b[39m\u001b[38;5;28;01mFalse\u001b[39;00m):\n\u001b[0;32m--> 642\u001b[0m         Xt \u001b[38;5;241m=\u001b[39m \u001b[43mtransform\u001b[49m\u001b[38;5;241;43m.\u001b[39;49m\u001b[43mtransform\u001b[49m\u001b[43m(\u001b[49m\u001b[43mXt\u001b[49m\u001b[43m)\u001b[49m\n\u001b[1;32m    643\u001b[0m     \u001b[38;5;28;01mreturn\u001b[39;00m \u001b[38;5;28mself\u001b[39m\u001b[38;5;241m.\u001b[39msteps[\u001b[38;5;241m-\u001b[39m\u001b[38;5;241m1\u001b[39m][\u001b[38;5;241m1\u001b[39m]\u001b[38;5;241m.\u001b[39mpredict_proba(Xt, \u001b[38;5;241m*\u001b[39m\u001b[38;5;241m*\u001b[39mparams)\n\u001b[1;32m    645\u001b[0m \u001b[38;5;66;03m# metadata routing enabled\u001b[39;00m\n",
      "File \u001b[0;32m~/.pyenv/versions/3.9.16/lib/python3.9/site-packages/sklearn/utils/_set_output.py:140\u001b[0m, in \u001b[0;36m_wrap_method_output.<locals>.wrapped\u001b[0;34m(self, X, *args, **kwargs)\u001b[0m\n\u001b[1;32m    138\u001b[0m \u001b[38;5;129m@wraps\u001b[39m(f)\n\u001b[1;32m    139\u001b[0m \u001b[38;5;28;01mdef\u001b[39;00m \u001b[38;5;21mwrapped\u001b[39m(\u001b[38;5;28mself\u001b[39m, X, \u001b[38;5;241m*\u001b[39margs, \u001b[38;5;241m*\u001b[39m\u001b[38;5;241m*\u001b[39mkwargs):\n\u001b[0;32m--> 140\u001b[0m     data_to_wrap \u001b[38;5;241m=\u001b[39m \u001b[43mf\u001b[49m\u001b[43m(\u001b[49m\u001b[38;5;28;43mself\u001b[39;49m\u001b[43m,\u001b[49m\u001b[43m \u001b[49m\u001b[43mX\u001b[49m\u001b[43m,\u001b[49m\u001b[43m \u001b[49m\u001b[38;5;241;43m*\u001b[39;49m\u001b[43margs\u001b[49m\u001b[43m,\u001b[49m\u001b[43m \u001b[49m\u001b[38;5;241;43m*\u001b[39;49m\u001b[38;5;241;43m*\u001b[39;49m\u001b[43mkwargs\u001b[49m\u001b[43m)\u001b[49m\n\u001b[1;32m    141\u001b[0m     \u001b[38;5;28;01mif\u001b[39;00m \u001b[38;5;28misinstance\u001b[39m(data_to_wrap, \u001b[38;5;28mtuple\u001b[39m):\n\u001b[1;32m    142\u001b[0m         \u001b[38;5;66;03m# only wrap the first output for cross decomposition\u001b[39;00m\n\u001b[1;32m    143\u001b[0m         \u001b[38;5;28;01mreturn\u001b[39;00m (\n\u001b[1;32m    144\u001b[0m             _wrap_data_with_container(method, data_to_wrap[\u001b[38;5;241m0\u001b[39m], X, \u001b[38;5;28mself\u001b[39m),\n\u001b[1;32m    145\u001b[0m             \u001b[38;5;241m*\u001b[39mdata_to_wrap[\u001b[38;5;241m1\u001b[39m:],\n\u001b[1;32m    146\u001b[0m         )\n",
      "Cell \u001b[0;32mIn[6], line 17\u001b[0m, in \u001b[0;36mTextCleaner.transform\u001b[0;34m(self, X)\u001b[0m\n\u001b[1;32m     15\u001b[0m     text \u001b[38;5;241m=\u001b[39m re\u001b[38;5;241m.\u001b[39msub(\u001b[38;5;124mr\u001b[39m\u001b[38;5;124m'\u001b[39m\u001b[38;5;124m\\\u001b[39m\u001b[38;5;124ms+\u001b[39m\u001b[38;5;124m'\u001b[39m, \u001b[38;5;124m'\u001b[39m\u001b[38;5;124m \u001b[39m\u001b[38;5;124m'\u001b[39m, text)\u001b[38;5;241m.\u001b[39mstrip()  \n\u001b[1;32m     16\u001b[0m     \u001b[38;5;28;01mreturn\u001b[39;00m text\n\u001b[0;32m---> 17\u001b[0m \u001b[38;5;28;01mreturn\u001b[39;00m \u001b[43mX\u001b[49m\u001b[38;5;241;43m.\u001b[39;49m\u001b[43mapply\u001b[49m(clean_text)\n",
      "\u001b[0;31mAttributeError\u001b[0m: 'list' object has no attribute 'apply'"
     ]
    }
   ],
   "source": [
    "# predict probabilities\n",
    "y_pred_proba = best_model.predict_proba(X_test)[:, 1]\n",
    "\n",
    "# init LIME text explainer\n",
    "explainer = LimeTextExplainer(class_names=['Ham', 'Spam'])\n",
    "\n",
    "# explain instance idx 11\n",
    "exp = explainer.explain_instance(X_test.iloc[11], best_model.predict_proba, num_features=50)\n",
    "\n",
    "# display the explanation\n",
    "exp.show_in_notebook(text=True)"
   ]
  },
  {
   "cell_type": "markdown",
   "metadata": {},
   "source": [
    "**Comment**: \n",
    "- The LIME output highlights what the prediction of the model is, how big the prediction probability is, how much each feature (individual word) contributes to the prediction, and color-highlighted words according to the model's classification.\n",
    "- As shown previously, the actual status of the message is a spam, and based on the LIME output, the model predicted the message as a spam with high probability (1.0).\n",
    "- The output also displays that the majority of words such as \"tones\", \"content\", and \"unsubscribe\" are three words with the highest contributions to the message predicted as a spam.\n",
    "- While remaining unclear for word \"tones\" and \"content\", the word \"unsubscribe\" is common in marketing messages, particularly those sent to promote a product or a service."
   ]
  },
  {
   "cell_type": "markdown",
   "metadata": {},
   "source": [
    "<h1 style='text-align:center;font-style:italic'>---End---</h1>"
   ]
  },
  {
   "cell_type": "markdown",
   "metadata": {},
   "source": [
    "___"
   ]
  },
  {
   "cell_type": "code",
   "execution_count": null,
   "metadata": {},
   "outputs": [
    {
     "data": {
      "image/png": "[encoded data removed]",
      "text/plain": [
       "<Figure size 640x480 with 1 Axes>"
      ]
     },
     "metadata": {},
     "output_type": "display_data"
    },
    {
     "name": "stdout",
     "output_type": "stream",
     "text": [
      "              precision    recall  f1-score   support\n",
      "\n",
      "           0       0.98      1.00      0.99       957\n",
      "           1       1.00      0.89      0.94       157\n",
      "\n",
      "    accuracy                           0.98      1114\n",
      "   macro avg       0.99      0.95      0.97      1114\n",
      "weighted avg       0.99      0.98      0.98      1114\n",
      "\n"
     ]
    }
   ],
   "source": [
    "# calibrate model\n",
    "calibrated_best_model= CalibratedClassifierCV(best_model, method='sigmoid', cv='prefit')\n",
    "calibrated_best_model.fit(X_train, y_train)\n",
    "\n",
    "# generate new predicted probabilities\n",
    "y_prob_calibrated = calibrated_best_model.predict_proba(X_train)[:, 1]\n",
    "prob_true_calibrated, prob_pred_calibrated = calibration_curve(y_train, y_prob_calibrated, n_bins=10)\n",
    "\n",
    "# plt.figure(figsize=(10, 7))\n",
    "plt.plot(prob_pred_calibrated, prob_true_calibrated, marker='o', linewidth=1, label='Calibrated Model')\n",
    "plt.plot([0, 1], [0, 1], linestyle='--', label='Perfectly calibrated')\n",
    "plt.xlabel('Mean predicted probability')\n",
    "plt.ylabel('Fraction of positives')\n",
    "plt.title('Reliability plot for Naive Bayes: Post-calibration')\n",
    "plt.legend()\n",
    "plt.show()\n",
    "\n",
    "# make predictions with the model\n",
    "y_pred_best_model = calibrated_best_model.predict(X_test)\n",
    "y_prob_best_model = calibrated_best_model.predict_proba(X_test)[:, 1]\n",
    "\n",
    "print(classification_report(y_test, y_pred_best_model))"
   ]
  },
  {
   "cell_type": "code",
   "execution_count": null,
   "metadata": {},
   "outputs": [
    {
     "data": {
      "image/png": "[encoded data removed]",
      "text/plain": [
       "<Figure size 640x480 with 1 Axes>"
      ]
     },
     "metadata": {},
     "output_type": "display_data"
    },
    {
     "name": "stdout",
     "output_type": "stream",
     "text": [
      "              precision    recall  f1-score   support\n",
      "\n",
      "           0       0.98      1.00      0.99       957\n",
      "           1       1.00      0.89      0.94       157\n",
      "\n",
      "    accuracy                           0.98      1114\n",
      "   macro avg       0.99      0.95      0.97      1114\n",
      "weighted avg       0.99      0.98      0.98      1114\n",
      "\n"
     ]
    }
   ],
   "source": [
    "# calibrate model\n",
    "calibrated_best_model= CalibratedClassifierCV(best_model, method='sigmoid', cv='prefit')\n",
    "calibrated_best_model.fit(X_train, y_train)\n",
    "\n",
    "# generate new predicted probabilities\n",
    "y_prob_calibrated = calibrated_best_model.predict_proba(X_test)[:, 1]\n",
    "prob_true_calibrated, prob_pred_calibrated = calibration_curve(y_test, y_prob_calibrated, n_bins=10)\n",
    "\n",
    "# plt.figure(figsize=(10, 7))\n",
    "plt.plot(prob_pred_calibrated, prob_true_calibrated, marker='o', linewidth=1, label='Calibrated Model')\n",
    "plt.plot([0, 1], [0, 1], linestyle='--', label='Perfectly calibrated')\n",
    "plt.xlabel('Mean predicted probability')\n",
    "plt.ylabel('Fraction of positives')\n",
    "plt.title('Reliability plot for Naive Bayes: Post-calibration')\n",
    "plt.legend()\n",
    "plt.show()\n",
    "\n",
    "# make predictions with the model\n",
    "y_pred_best_model = calibrated_best_model.predict(X_test)\n",
    "y_prob_best_model = calibrated_best_model.predict_proba(X_test)[:, 1]\n",
    "\n",
    "print(classification_report(y_test, y_pred_best_model))"
   ]
  },
  {
   "cell_type": "markdown",
   "metadata": {},
   "source": [
    "**Comment**:\n",
    "- The calibrated model’s line closely follows the perfectly calibrated line, indicating accurate predicted probabilities.\n",
    "- This suggests that the model’s confidence in its predictions is appropriate, which is desirable in a probabilistic classifier."
   ]
  }
 ],
 "metadata": {
  "kernelspec": {
   "display_name": "Python 3",
   "language": "python",
   "name": "python3"
  },
  "language_info": {
   "codemirror_mode": {
    "name": "ipython",
    "version": 3
   },
   "file_extension": ".py",
   "mimetype": "text/x-python",
   "name": "python",
   "nbconvert_exporter": "python",
   "pygments_lexer": "ipython3",
   "version": "3.9.16"
  }
 },
 "nbformat": 4,
 "nbformat_minor": 2
}
